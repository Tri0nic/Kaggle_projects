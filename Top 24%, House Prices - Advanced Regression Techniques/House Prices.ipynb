{
 "cells": [
  {
   "cell_type": "code",
   "execution_count": 1,
   "id": "7c3e752f",
   "metadata": {},
   "outputs": [],
   "source": [
    "import numpy as np\n",
    "import pandas as pd\n",
    "import matplotlib.pyplot as plt\n",
    "import seaborn as sns\n",
    "\n",
    "from sklearn.model_selection import train_test_split\n",
    "from sklearn.neighbors import KNeighborsRegressor\n",
    "from sklearn.linear_model import LinearRegression\n",
    "from sklearn.linear_model import Ridge\n",
    "from sklearn.linear_model import Lasso\n",
    "from sklearn.ensemble import RandomForestRegressor\n",
    "from sklearn.ensemble import GradientBoostingRegressor\n",
    "from sklearn.neural_network import MLPRegressor\n",
    "from xgboost import XGBRegressor\n",
    "\n",
    "from sklearn.pipeline import make_pipeline\n",
    "from sklearn.model_selection import GridSearchCV\n",
    "from sklearn.model_selection import cross_val_score\n",
    "from sklearn.preprocessing import MinMaxScaler\n",
    "from sklearn.preprocessing import StandardScaler"
   ]
  },
  {
   "cell_type": "code",
   "execution_count": 2,
   "id": "d6de6d36",
   "metadata": {},
   "outputs": [],
   "source": [
    "# Убираем ограничение показа количества столбцов и строк\n",
    "pd.set_option('display.max_columns', None)\n",
    "pd.set_option('display.max_rows', None)"
   ]
  },
  {
   "cell_type": "code",
   "execution_count": 3,
   "id": "273f5ccc",
   "metadata": {},
   "outputs": [],
   "source": [
    "df_train = pd.read_csv('train.csv', header=0)\n",
    "df_test = pd.read_csv('test.csv', header=0)"
   ]
  },
  {
   "cell_type": "code",
   "execution_count": 4,
   "id": "4cbb8600",
   "metadata": {},
   "outputs": [
    {
     "data": {
      "text/html": [
       "<div>\n",
       "<style scoped>\n",
       "    .dataframe tbody tr th:only-of-type {\n",
       "        vertical-align: middle;\n",
       "    }\n",
       "\n",
       "    .dataframe tbody tr th {\n",
       "        vertical-align: top;\n",
       "    }\n",
       "\n",
       "    .dataframe thead th {\n",
       "        text-align: right;\n",
       "    }\n",
       "</style>\n",
       "<table border=\"1\" class=\"dataframe\">\n",
       "  <thead>\n",
       "    <tr style=\"text-align: right;\">\n",
       "      <th></th>\n",
       "      <th>Id</th>\n",
       "      <th>MSSubClass</th>\n",
       "      <th>MSZoning</th>\n",
       "      <th>LotFrontage</th>\n",
       "      <th>LotArea</th>\n",
       "      <th>Street</th>\n",
       "      <th>Alley</th>\n",
       "      <th>LotShape</th>\n",
       "      <th>LandContour</th>\n",
       "      <th>Utilities</th>\n",
       "      <th>LotConfig</th>\n",
       "      <th>LandSlope</th>\n",
       "      <th>Neighborhood</th>\n",
       "      <th>Condition1</th>\n",
       "      <th>Condition2</th>\n",
       "      <th>BldgType</th>\n",
       "      <th>HouseStyle</th>\n",
       "      <th>OverallQual</th>\n",
       "      <th>OverallCond</th>\n",
       "      <th>YearBuilt</th>\n",
       "      <th>YearRemodAdd</th>\n",
       "      <th>RoofStyle</th>\n",
       "      <th>RoofMatl</th>\n",
       "      <th>Exterior1st</th>\n",
       "      <th>Exterior2nd</th>\n",
       "      <th>MasVnrType</th>\n",
       "      <th>MasVnrArea</th>\n",
       "      <th>ExterQual</th>\n",
       "      <th>ExterCond</th>\n",
       "      <th>Foundation</th>\n",
       "      <th>BsmtQual</th>\n",
       "      <th>BsmtCond</th>\n",
       "      <th>BsmtExposure</th>\n",
       "      <th>BsmtFinType1</th>\n",
       "      <th>BsmtFinSF1</th>\n",
       "      <th>BsmtFinType2</th>\n",
       "      <th>BsmtFinSF2</th>\n",
       "      <th>BsmtUnfSF</th>\n",
       "      <th>TotalBsmtSF</th>\n",
       "      <th>Heating</th>\n",
       "      <th>HeatingQC</th>\n",
       "      <th>CentralAir</th>\n",
       "      <th>Electrical</th>\n",
       "      <th>1stFlrSF</th>\n",
       "      <th>2ndFlrSF</th>\n",
       "      <th>LowQualFinSF</th>\n",
       "      <th>GrLivArea</th>\n",
       "      <th>BsmtFullBath</th>\n",
       "      <th>BsmtHalfBath</th>\n",
       "      <th>FullBath</th>\n",
       "      <th>HalfBath</th>\n",
       "      <th>BedroomAbvGr</th>\n",
       "      <th>KitchenAbvGr</th>\n",
       "      <th>KitchenQual</th>\n",
       "      <th>TotRmsAbvGrd</th>\n",
       "      <th>Functional</th>\n",
       "      <th>Fireplaces</th>\n",
       "      <th>FireplaceQu</th>\n",
       "      <th>GarageType</th>\n",
       "      <th>GarageYrBlt</th>\n",
       "      <th>GarageFinish</th>\n",
       "      <th>GarageCars</th>\n",
       "      <th>GarageArea</th>\n",
       "      <th>GarageQual</th>\n",
       "      <th>GarageCond</th>\n",
       "      <th>PavedDrive</th>\n",
       "      <th>WoodDeckSF</th>\n",
       "      <th>OpenPorchSF</th>\n",
       "      <th>EnclosedPorch</th>\n",
       "      <th>3SsnPorch</th>\n",
       "      <th>ScreenPorch</th>\n",
       "      <th>PoolArea</th>\n",
       "      <th>PoolQC</th>\n",
       "      <th>Fence</th>\n",
       "      <th>MiscFeature</th>\n",
       "      <th>MiscVal</th>\n",
       "      <th>MoSold</th>\n",
       "      <th>YrSold</th>\n",
       "      <th>SaleType</th>\n",
       "      <th>SaleCondition</th>\n",
       "      <th>SalePrice</th>\n",
       "    </tr>\n",
       "  </thead>\n",
       "  <tbody>\n",
       "    <tr>\n",
       "      <th>0</th>\n",
       "      <td>1</td>\n",
       "      <td>60</td>\n",
       "      <td>RL</td>\n",
       "      <td>65.0</td>\n",
       "      <td>8450</td>\n",
       "      <td>Pave</td>\n",
       "      <td>NaN</td>\n",
       "      <td>Reg</td>\n",
       "      <td>Lvl</td>\n",
       "      <td>AllPub</td>\n",
       "      <td>Inside</td>\n",
       "      <td>Gtl</td>\n",
       "      <td>CollgCr</td>\n",
       "      <td>Norm</td>\n",
       "      <td>Norm</td>\n",
       "      <td>1Fam</td>\n",
       "      <td>2Story</td>\n",
       "      <td>7</td>\n",
       "      <td>5</td>\n",
       "      <td>2003</td>\n",
       "      <td>2003</td>\n",
       "      <td>Gable</td>\n",
       "      <td>CompShg</td>\n",
       "      <td>VinylSd</td>\n",
       "      <td>VinylSd</td>\n",
       "      <td>BrkFace</td>\n",
       "      <td>196.0</td>\n",
       "      <td>Gd</td>\n",
       "      <td>TA</td>\n",
       "      <td>PConc</td>\n",
       "      <td>Gd</td>\n",
       "      <td>TA</td>\n",
       "      <td>No</td>\n",
       "      <td>GLQ</td>\n",
       "      <td>706</td>\n",
       "      <td>Unf</td>\n",
       "      <td>0</td>\n",
       "      <td>150</td>\n",
       "      <td>856</td>\n",
       "      <td>GasA</td>\n",
       "      <td>Ex</td>\n",
       "      <td>Y</td>\n",
       "      <td>SBrkr</td>\n",
       "      <td>856</td>\n",
       "      <td>854</td>\n",
       "      <td>0</td>\n",
       "      <td>1710</td>\n",
       "      <td>1</td>\n",
       "      <td>0</td>\n",
       "      <td>2</td>\n",
       "      <td>1</td>\n",
       "      <td>3</td>\n",
       "      <td>1</td>\n",
       "      <td>Gd</td>\n",
       "      <td>8</td>\n",
       "      <td>Typ</td>\n",
       "      <td>0</td>\n",
       "      <td>NaN</td>\n",
       "      <td>Attchd</td>\n",
       "      <td>2003.0</td>\n",
       "      <td>RFn</td>\n",
       "      <td>2</td>\n",
       "      <td>548</td>\n",
       "      <td>TA</td>\n",
       "      <td>TA</td>\n",
       "      <td>Y</td>\n",
       "      <td>0</td>\n",
       "      <td>61</td>\n",
       "      <td>0</td>\n",
       "      <td>0</td>\n",
       "      <td>0</td>\n",
       "      <td>0</td>\n",
       "      <td>NaN</td>\n",
       "      <td>NaN</td>\n",
       "      <td>NaN</td>\n",
       "      <td>0</td>\n",
       "      <td>2</td>\n",
       "      <td>2008</td>\n",
       "      <td>WD</td>\n",
       "      <td>Normal</td>\n",
       "      <td>208500</td>\n",
       "    </tr>\n",
       "    <tr>\n",
       "      <th>1</th>\n",
       "      <td>2</td>\n",
       "      <td>20</td>\n",
       "      <td>RL</td>\n",
       "      <td>80.0</td>\n",
       "      <td>9600</td>\n",
       "      <td>Pave</td>\n",
       "      <td>NaN</td>\n",
       "      <td>Reg</td>\n",
       "      <td>Lvl</td>\n",
       "      <td>AllPub</td>\n",
       "      <td>FR2</td>\n",
       "      <td>Gtl</td>\n",
       "      <td>Veenker</td>\n",
       "      <td>Feedr</td>\n",
       "      <td>Norm</td>\n",
       "      <td>1Fam</td>\n",
       "      <td>1Story</td>\n",
       "      <td>6</td>\n",
       "      <td>8</td>\n",
       "      <td>1976</td>\n",
       "      <td>1976</td>\n",
       "      <td>Gable</td>\n",
       "      <td>CompShg</td>\n",
       "      <td>MetalSd</td>\n",
       "      <td>MetalSd</td>\n",
       "      <td>None</td>\n",
       "      <td>0.0</td>\n",
       "      <td>TA</td>\n",
       "      <td>TA</td>\n",
       "      <td>CBlock</td>\n",
       "      <td>Gd</td>\n",
       "      <td>TA</td>\n",
       "      <td>Gd</td>\n",
       "      <td>ALQ</td>\n",
       "      <td>978</td>\n",
       "      <td>Unf</td>\n",
       "      <td>0</td>\n",
       "      <td>284</td>\n",
       "      <td>1262</td>\n",
       "      <td>GasA</td>\n",
       "      <td>Ex</td>\n",
       "      <td>Y</td>\n",
       "      <td>SBrkr</td>\n",
       "      <td>1262</td>\n",
       "      <td>0</td>\n",
       "      <td>0</td>\n",
       "      <td>1262</td>\n",
       "      <td>0</td>\n",
       "      <td>1</td>\n",
       "      <td>2</td>\n",
       "      <td>0</td>\n",
       "      <td>3</td>\n",
       "      <td>1</td>\n",
       "      <td>TA</td>\n",
       "      <td>6</td>\n",
       "      <td>Typ</td>\n",
       "      <td>1</td>\n",
       "      <td>TA</td>\n",
       "      <td>Attchd</td>\n",
       "      <td>1976.0</td>\n",
       "      <td>RFn</td>\n",
       "      <td>2</td>\n",
       "      <td>460</td>\n",
       "      <td>TA</td>\n",
       "      <td>TA</td>\n",
       "      <td>Y</td>\n",
       "      <td>298</td>\n",
       "      <td>0</td>\n",
       "      <td>0</td>\n",
       "      <td>0</td>\n",
       "      <td>0</td>\n",
       "      <td>0</td>\n",
       "      <td>NaN</td>\n",
       "      <td>NaN</td>\n",
       "      <td>NaN</td>\n",
       "      <td>0</td>\n",
       "      <td>5</td>\n",
       "      <td>2007</td>\n",
       "      <td>WD</td>\n",
       "      <td>Normal</td>\n",
       "      <td>181500</td>\n",
       "    </tr>\n",
       "    <tr>\n",
       "      <th>2</th>\n",
       "      <td>3</td>\n",
       "      <td>60</td>\n",
       "      <td>RL</td>\n",
       "      <td>68.0</td>\n",
       "      <td>11250</td>\n",
       "      <td>Pave</td>\n",
       "      <td>NaN</td>\n",
       "      <td>IR1</td>\n",
       "      <td>Lvl</td>\n",
       "      <td>AllPub</td>\n",
       "      <td>Inside</td>\n",
       "      <td>Gtl</td>\n",
       "      <td>CollgCr</td>\n",
       "      <td>Norm</td>\n",
       "      <td>Norm</td>\n",
       "      <td>1Fam</td>\n",
       "      <td>2Story</td>\n",
       "      <td>7</td>\n",
       "      <td>5</td>\n",
       "      <td>2001</td>\n",
       "      <td>2002</td>\n",
       "      <td>Gable</td>\n",
       "      <td>CompShg</td>\n",
       "      <td>VinylSd</td>\n",
       "      <td>VinylSd</td>\n",
       "      <td>BrkFace</td>\n",
       "      <td>162.0</td>\n",
       "      <td>Gd</td>\n",
       "      <td>TA</td>\n",
       "      <td>PConc</td>\n",
       "      <td>Gd</td>\n",
       "      <td>TA</td>\n",
       "      <td>Mn</td>\n",
       "      <td>GLQ</td>\n",
       "      <td>486</td>\n",
       "      <td>Unf</td>\n",
       "      <td>0</td>\n",
       "      <td>434</td>\n",
       "      <td>920</td>\n",
       "      <td>GasA</td>\n",
       "      <td>Ex</td>\n",
       "      <td>Y</td>\n",
       "      <td>SBrkr</td>\n",
       "      <td>920</td>\n",
       "      <td>866</td>\n",
       "      <td>0</td>\n",
       "      <td>1786</td>\n",
       "      <td>1</td>\n",
       "      <td>0</td>\n",
       "      <td>2</td>\n",
       "      <td>1</td>\n",
       "      <td>3</td>\n",
       "      <td>1</td>\n",
       "      <td>Gd</td>\n",
       "      <td>6</td>\n",
       "      <td>Typ</td>\n",
       "      <td>1</td>\n",
       "      <td>TA</td>\n",
       "      <td>Attchd</td>\n",
       "      <td>2001.0</td>\n",
       "      <td>RFn</td>\n",
       "      <td>2</td>\n",
       "      <td>608</td>\n",
       "      <td>TA</td>\n",
       "      <td>TA</td>\n",
       "      <td>Y</td>\n",
       "      <td>0</td>\n",
       "      <td>42</td>\n",
       "      <td>0</td>\n",
       "      <td>0</td>\n",
       "      <td>0</td>\n",
       "      <td>0</td>\n",
       "      <td>NaN</td>\n",
       "      <td>NaN</td>\n",
       "      <td>NaN</td>\n",
       "      <td>0</td>\n",
       "      <td>9</td>\n",
       "      <td>2008</td>\n",
       "      <td>WD</td>\n",
       "      <td>Normal</td>\n",
       "      <td>223500</td>\n",
       "    </tr>\n",
       "    <tr>\n",
       "      <th>3</th>\n",
       "      <td>4</td>\n",
       "      <td>70</td>\n",
       "      <td>RL</td>\n",
       "      <td>60.0</td>\n",
       "      <td>9550</td>\n",
       "      <td>Pave</td>\n",
       "      <td>NaN</td>\n",
       "      <td>IR1</td>\n",
       "      <td>Lvl</td>\n",
       "      <td>AllPub</td>\n",
       "      <td>Corner</td>\n",
       "      <td>Gtl</td>\n",
       "      <td>Crawfor</td>\n",
       "      <td>Norm</td>\n",
       "      <td>Norm</td>\n",
       "      <td>1Fam</td>\n",
       "      <td>2Story</td>\n",
       "      <td>7</td>\n",
       "      <td>5</td>\n",
       "      <td>1915</td>\n",
       "      <td>1970</td>\n",
       "      <td>Gable</td>\n",
       "      <td>CompShg</td>\n",
       "      <td>Wd Sdng</td>\n",
       "      <td>Wd Shng</td>\n",
       "      <td>None</td>\n",
       "      <td>0.0</td>\n",
       "      <td>TA</td>\n",
       "      <td>TA</td>\n",
       "      <td>BrkTil</td>\n",
       "      <td>TA</td>\n",
       "      <td>Gd</td>\n",
       "      <td>No</td>\n",
       "      <td>ALQ</td>\n",
       "      <td>216</td>\n",
       "      <td>Unf</td>\n",
       "      <td>0</td>\n",
       "      <td>540</td>\n",
       "      <td>756</td>\n",
       "      <td>GasA</td>\n",
       "      <td>Gd</td>\n",
       "      <td>Y</td>\n",
       "      <td>SBrkr</td>\n",
       "      <td>961</td>\n",
       "      <td>756</td>\n",
       "      <td>0</td>\n",
       "      <td>1717</td>\n",
       "      <td>1</td>\n",
       "      <td>0</td>\n",
       "      <td>1</td>\n",
       "      <td>0</td>\n",
       "      <td>3</td>\n",
       "      <td>1</td>\n",
       "      <td>Gd</td>\n",
       "      <td>7</td>\n",
       "      <td>Typ</td>\n",
       "      <td>1</td>\n",
       "      <td>Gd</td>\n",
       "      <td>Detchd</td>\n",
       "      <td>1998.0</td>\n",
       "      <td>Unf</td>\n",
       "      <td>3</td>\n",
       "      <td>642</td>\n",
       "      <td>TA</td>\n",
       "      <td>TA</td>\n",
       "      <td>Y</td>\n",
       "      <td>0</td>\n",
       "      <td>35</td>\n",
       "      <td>272</td>\n",
       "      <td>0</td>\n",
       "      <td>0</td>\n",
       "      <td>0</td>\n",
       "      <td>NaN</td>\n",
       "      <td>NaN</td>\n",
       "      <td>NaN</td>\n",
       "      <td>0</td>\n",
       "      <td>2</td>\n",
       "      <td>2006</td>\n",
       "      <td>WD</td>\n",
       "      <td>Abnorml</td>\n",
       "      <td>140000</td>\n",
       "    </tr>\n",
       "    <tr>\n",
       "      <th>4</th>\n",
       "      <td>5</td>\n",
       "      <td>60</td>\n",
       "      <td>RL</td>\n",
       "      <td>84.0</td>\n",
       "      <td>14260</td>\n",
       "      <td>Pave</td>\n",
       "      <td>NaN</td>\n",
       "      <td>IR1</td>\n",
       "      <td>Lvl</td>\n",
       "      <td>AllPub</td>\n",
       "      <td>FR2</td>\n",
       "      <td>Gtl</td>\n",
       "      <td>NoRidge</td>\n",
       "      <td>Norm</td>\n",
       "      <td>Norm</td>\n",
       "      <td>1Fam</td>\n",
       "      <td>2Story</td>\n",
       "      <td>8</td>\n",
       "      <td>5</td>\n",
       "      <td>2000</td>\n",
       "      <td>2000</td>\n",
       "      <td>Gable</td>\n",
       "      <td>CompShg</td>\n",
       "      <td>VinylSd</td>\n",
       "      <td>VinylSd</td>\n",
       "      <td>BrkFace</td>\n",
       "      <td>350.0</td>\n",
       "      <td>Gd</td>\n",
       "      <td>TA</td>\n",
       "      <td>PConc</td>\n",
       "      <td>Gd</td>\n",
       "      <td>TA</td>\n",
       "      <td>Av</td>\n",
       "      <td>GLQ</td>\n",
       "      <td>655</td>\n",
       "      <td>Unf</td>\n",
       "      <td>0</td>\n",
       "      <td>490</td>\n",
       "      <td>1145</td>\n",
       "      <td>GasA</td>\n",
       "      <td>Ex</td>\n",
       "      <td>Y</td>\n",
       "      <td>SBrkr</td>\n",
       "      <td>1145</td>\n",
       "      <td>1053</td>\n",
       "      <td>0</td>\n",
       "      <td>2198</td>\n",
       "      <td>1</td>\n",
       "      <td>0</td>\n",
       "      <td>2</td>\n",
       "      <td>1</td>\n",
       "      <td>4</td>\n",
       "      <td>1</td>\n",
       "      <td>Gd</td>\n",
       "      <td>9</td>\n",
       "      <td>Typ</td>\n",
       "      <td>1</td>\n",
       "      <td>TA</td>\n",
       "      <td>Attchd</td>\n",
       "      <td>2000.0</td>\n",
       "      <td>RFn</td>\n",
       "      <td>3</td>\n",
       "      <td>836</td>\n",
       "      <td>TA</td>\n",
       "      <td>TA</td>\n",
       "      <td>Y</td>\n",
       "      <td>192</td>\n",
       "      <td>84</td>\n",
       "      <td>0</td>\n",
       "      <td>0</td>\n",
       "      <td>0</td>\n",
       "      <td>0</td>\n",
       "      <td>NaN</td>\n",
       "      <td>NaN</td>\n",
       "      <td>NaN</td>\n",
       "      <td>0</td>\n",
       "      <td>12</td>\n",
       "      <td>2008</td>\n",
       "      <td>WD</td>\n",
       "      <td>Normal</td>\n",
       "      <td>250000</td>\n",
       "    </tr>\n",
       "  </tbody>\n",
       "</table>\n",
       "</div>"
      ],
      "text/plain": [
       "   Id  MSSubClass MSZoning  LotFrontage  LotArea Street Alley LotShape  \\\n",
       "0   1          60       RL         65.0     8450   Pave   NaN      Reg   \n",
       "1   2          20       RL         80.0     9600   Pave   NaN      Reg   \n",
       "2   3          60       RL         68.0    11250   Pave   NaN      IR1   \n",
       "3   4          70       RL         60.0     9550   Pave   NaN      IR1   \n",
       "4   5          60       RL         84.0    14260   Pave   NaN      IR1   \n",
       "\n",
       "  LandContour Utilities LotConfig LandSlope Neighborhood Condition1  \\\n",
       "0         Lvl    AllPub    Inside       Gtl      CollgCr       Norm   \n",
       "1         Lvl    AllPub       FR2       Gtl      Veenker      Feedr   \n",
       "2         Lvl    AllPub    Inside       Gtl      CollgCr       Norm   \n",
       "3         Lvl    AllPub    Corner       Gtl      Crawfor       Norm   \n",
       "4         Lvl    AllPub       FR2       Gtl      NoRidge       Norm   \n",
       "\n",
       "  Condition2 BldgType HouseStyle  OverallQual  OverallCond  YearBuilt  \\\n",
       "0       Norm     1Fam     2Story            7            5       2003   \n",
       "1       Norm     1Fam     1Story            6            8       1976   \n",
       "2       Norm     1Fam     2Story            7            5       2001   \n",
       "3       Norm     1Fam     2Story            7            5       1915   \n",
       "4       Norm     1Fam     2Story            8            5       2000   \n",
       "\n",
       "   YearRemodAdd RoofStyle RoofMatl Exterior1st Exterior2nd MasVnrType  \\\n",
       "0          2003     Gable  CompShg     VinylSd     VinylSd    BrkFace   \n",
       "1          1976     Gable  CompShg     MetalSd     MetalSd       None   \n",
       "2          2002     Gable  CompShg     VinylSd     VinylSd    BrkFace   \n",
       "3          1970     Gable  CompShg     Wd Sdng     Wd Shng       None   \n",
       "4          2000     Gable  CompShg     VinylSd     VinylSd    BrkFace   \n",
       "\n",
       "   MasVnrArea ExterQual ExterCond Foundation BsmtQual BsmtCond BsmtExposure  \\\n",
       "0       196.0        Gd        TA      PConc       Gd       TA           No   \n",
       "1         0.0        TA        TA     CBlock       Gd       TA           Gd   \n",
       "2       162.0        Gd        TA      PConc       Gd       TA           Mn   \n",
       "3         0.0        TA        TA     BrkTil       TA       Gd           No   \n",
       "4       350.0        Gd        TA      PConc       Gd       TA           Av   \n",
       "\n",
       "  BsmtFinType1  BsmtFinSF1 BsmtFinType2  BsmtFinSF2  BsmtUnfSF  TotalBsmtSF  \\\n",
       "0          GLQ         706          Unf           0        150          856   \n",
       "1          ALQ         978          Unf           0        284         1262   \n",
       "2          GLQ         486          Unf           0        434          920   \n",
       "3          ALQ         216          Unf           0        540          756   \n",
       "4          GLQ         655          Unf           0        490         1145   \n",
       "\n",
       "  Heating HeatingQC CentralAir Electrical  1stFlrSF  2ndFlrSF  LowQualFinSF  \\\n",
       "0    GasA        Ex          Y      SBrkr       856       854             0   \n",
       "1    GasA        Ex          Y      SBrkr      1262         0             0   \n",
       "2    GasA        Ex          Y      SBrkr       920       866             0   \n",
       "3    GasA        Gd          Y      SBrkr       961       756             0   \n",
       "4    GasA        Ex          Y      SBrkr      1145      1053             0   \n",
       "\n",
       "   GrLivArea  BsmtFullBath  BsmtHalfBath  FullBath  HalfBath  BedroomAbvGr  \\\n",
       "0       1710             1             0         2         1             3   \n",
       "1       1262             0             1         2         0             3   \n",
       "2       1786             1             0         2         1             3   \n",
       "3       1717             1             0         1         0             3   \n",
       "4       2198             1             0         2         1             4   \n",
       "\n",
       "   KitchenAbvGr KitchenQual  TotRmsAbvGrd Functional  Fireplaces FireplaceQu  \\\n",
       "0             1          Gd             8        Typ           0         NaN   \n",
       "1             1          TA             6        Typ           1          TA   \n",
       "2             1          Gd             6        Typ           1          TA   \n",
       "3             1          Gd             7        Typ           1          Gd   \n",
       "4             1          Gd             9        Typ           1          TA   \n",
       "\n",
       "  GarageType  GarageYrBlt GarageFinish  GarageCars  GarageArea GarageQual  \\\n",
       "0     Attchd       2003.0          RFn           2         548         TA   \n",
       "1     Attchd       1976.0          RFn           2         460         TA   \n",
       "2     Attchd       2001.0          RFn           2         608         TA   \n",
       "3     Detchd       1998.0          Unf           3         642         TA   \n",
       "4     Attchd       2000.0          RFn           3         836         TA   \n",
       "\n",
       "  GarageCond PavedDrive  WoodDeckSF  OpenPorchSF  EnclosedPorch  3SsnPorch  \\\n",
       "0         TA          Y           0           61              0          0   \n",
       "1         TA          Y         298            0              0          0   \n",
       "2         TA          Y           0           42              0          0   \n",
       "3         TA          Y           0           35            272          0   \n",
       "4         TA          Y         192           84              0          0   \n",
       "\n",
       "   ScreenPorch  PoolArea PoolQC Fence MiscFeature  MiscVal  MoSold  YrSold  \\\n",
       "0            0         0    NaN   NaN         NaN        0       2    2008   \n",
       "1            0         0    NaN   NaN         NaN        0       5    2007   \n",
       "2            0         0    NaN   NaN         NaN        0       9    2008   \n",
       "3            0         0    NaN   NaN         NaN        0       2    2006   \n",
       "4            0         0    NaN   NaN         NaN        0      12    2008   \n",
       "\n",
       "  SaleType SaleCondition  SalePrice  \n",
       "0       WD        Normal     208500  \n",
       "1       WD        Normal     181500  \n",
       "2       WD        Normal     223500  \n",
       "3       WD       Abnorml     140000  \n",
       "4       WD        Normal     250000  "
      ]
     },
     "execution_count": 4,
     "metadata": {},
     "output_type": "execute_result"
    }
   ],
   "source": [
    "df_train.head()"
   ]
  },
  {
   "cell_type": "code",
   "execution_count": 5,
   "id": "eeb226a3",
   "metadata": {},
   "outputs": [
    {
     "data": {
      "text/plain": [
       "(1460, 81)"
      ]
     },
     "execution_count": 5,
     "metadata": {},
     "output_type": "execute_result"
    }
   ],
   "source": [
    "df_train.shape"
   ]
  },
  {
   "cell_type": "code",
   "execution_count": 6,
   "id": "5d40d5f3",
   "metadata": {},
   "outputs": [
    {
     "data": {
      "text/plain": [
       "(1459, 80)"
      ]
     },
     "execution_count": 6,
     "metadata": {},
     "output_type": "execute_result"
    }
   ],
   "source": [
    "df_test.shape"
   ]
  },
  {
   "cell_type": "markdown",
   "id": "2dbce7d4",
   "metadata": {},
   "source": [
    "# Объединение train и test"
   ]
  },
  {
   "cell_type": "code",
   "execution_count": 7,
   "id": "59ae7a25",
   "metadata": {},
   "outputs": [],
   "source": [
    "ds = pd.concat([df_train, df_test])"
   ]
  },
  {
   "cell_type": "code",
   "execution_count": 8,
   "id": "62bb9730",
   "metadata": {},
   "outputs": [
    {
     "data": {
      "text/plain": [
       "(2919, 81)"
      ]
     },
     "execution_count": 8,
     "metadata": {},
     "output_type": "execute_result"
    }
   ],
   "source": [
    "ds.shape"
   ]
  },
  {
   "cell_type": "code",
   "execution_count": 10,
   "id": "99acde0b",
   "metadata": {},
   "outputs": [
    {
     "data": {
      "text/html": [
       "<div>\n",
       "<style scoped>\n",
       "    .dataframe tbody tr th:only-of-type {\n",
       "        vertical-align: middle;\n",
       "    }\n",
       "\n",
       "    .dataframe tbody tr th {\n",
       "        vertical-align: top;\n",
       "    }\n",
       "\n",
       "    .dataframe thead th {\n",
       "        text-align: right;\n",
       "    }\n",
       "</style>\n",
       "<table border=\"1\" class=\"dataframe\">\n",
       "  <thead>\n",
       "    <tr style=\"text-align: right;\">\n",
       "      <th></th>\n",
       "      <th>Id</th>\n",
       "      <th>MSSubClass</th>\n",
       "      <th>MSZoning</th>\n",
       "      <th>LotFrontage</th>\n",
       "      <th>LotArea</th>\n",
       "      <th>Street</th>\n",
       "      <th>Alley</th>\n",
       "      <th>LotShape</th>\n",
       "      <th>LandContour</th>\n",
       "      <th>Utilities</th>\n",
       "      <th>LotConfig</th>\n",
       "      <th>LandSlope</th>\n",
       "      <th>Neighborhood</th>\n",
       "      <th>Condition1</th>\n",
       "      <th>Condition2</th>\n",
       "      <th>BldgType</th>\n",
       "      <th>HouseStyle</th>\n",
       "      <th>OverallQual</th>\n",
       "      <th>OverallCond</th>\n",
       "      <th>YearBuilt</th>\n",
       "      <th>YearRemodAdd</th>\n",
       "      <th>RoofStyle</th>\n",
       "      <th>RoofMatl</th>\n",
       "      <th>Exterior1st</th>\n",
       "      <th>Exterior2nd</th>\n",
       "      <th>MasVnrType</th>\n",
       "      <th>MasVnrArea</th>\n",
       "      <th>ExterQual</th>\n",
       "      <th>ExterCond</th>\n",
       "      <th>Foundation</th>\n",
       "      <th>BsmtQual</th>\n",
       "      <th>BsmtCond</th>\n",
       "      <th>BsmtExposure</th>\n",
       "      <th>BsmtFinType1</th>\n",
       "      <th>BsmtFinSF1</th>\n",
       "      <th>BsmtFinType2</th>\n",
       "      <th>BsmtFinSF2</th>\n",
       "      <th>BsmtUnfSF</th>\n",
       "      <th>TotalBsmtSF</th>\n",
       "      <th>Heating</th>\n",
       "      <th>HeatingQC</th>\n",
       "      <th>CentralAir</th>\n",
       "      <th>Electrical</th>\n",
       "      <th>1stFlrSF</th>\n",
       "      <th>2ndFlrSF</th>\n",
       "      <th>LowQualFinSF</th>\n",
       "      <th>GrLivArea</th>\n",
       "      <th>BsmtFullBath</th>\n",
       "      <th>BsmtHalfBath</th>\n",
       "      <th>FullBath</th>\n",
       "      <th>HalfBath</th>\n",
       "      <th>BedroomAbvGr</th>\n",
       "      <th>KitchenAbvGr</th>\n",
       "      <th>KitchenQual</th>\n",
       "      <th>TotRmsAbvGrd</th>\n",
       "      <th>Functional</th>\n",
       "      <th>Fireplaces</th>\n",
       "      <th>FireplaceQu</th>\n",
       "      <th>GarageType</th>\n",
       "      <th>GarageYrBlt</th>\n",
       "      <th>GarageFinish</th>\n",
       "      <th>GarageCars</th>\n",
       "      <th>GarageArea</th>\n",
       "      <th>GarageQual</th>\n",
       "      <th>GarageCond</th>\n",
       "      <th>PavedDrive</th>\n",
       "      <th>WoodDeckSF</th>\n",
       "      <th>OpenPorchSF</th>\n",
       "      <th>EnclosedPorch</th>\n",
       "      <th>3SsnPorch</th>\n",
       "      <th>ScreenPorch</th>\n",
       "      <th>PoolArea</th>\n",
       "      <th>PoolQC</th>\n",
       "      <th>Fence</th>\n",
       "      <th>MiscFeature</th>\n",
       "      <th>MiscVal</th>\n",
       "      <th>MoSold</th>\n",
       "      <th>YrSold</th>\n",
       "      <th>SaleType</th>\n",
       "      <th>SaleCondition</th>\n",
       "      <th>SalePrice</th>\n",
       "    </tr>\n",
       "  </thead>\n",
       "  <tbody>\n",
       "    <tr>\n",
       "      <th>0</th>\n",
       "      <td>1</td>\n",
       "      <td>60</td>\n",
       "      <td>RL</td>\n",
       "      <td>65.0</td>\n",
       "      <td>8450</td>\n",
       "      <td>Pave</td>\n",
       "      <td>NaN</td>\n",
       "      <td>Reg</td>\n",
       "      <td>Lvl</td>\n",
       "      <td>AllPub</td>\n",
       "      <td>Inside</td>\n",
       "      <td>Gtl</td>\n",
       "      <td>CollgCr</td>\n",
       "      <td>Norm</td>\n",
       "      <td>Norm</td>\n",
       "      <td>1Fam</td>\n",
       "      <td>2Story</td>\n",
       "      <td>7</td>\n",
       "      <td>5</td>\n",
       "      <td>2003</td>\n",
       "      <td>2003</td>\n",
       "      <td>Gable</td>\n",
       "      <td>CompShg</td>\n",
       "      <td>VinylSd</td>\n",
       "      <td>VinylSd</td>\n",
       "      <td>BrkFace</td>\n",
       "      <td>196.0</td>\n",
       "      <td>Gd</td>\n",
       "      <td>TA</td>\n",
       "      <td>PConc</td>\n",
       "      <td>Gd</td>\n",
       "      <td>TA</td>\n",
       "      <td>No</td>\n",
       "      <td>GLQ</td>\n",
       "      <td>706.0</td>\n",
       "      <td>Unf</td>\n",
       "      <td>0.0</td>\n",
       "      <td>150.0</td>\n",
       "      <td>856.0</td>\n",
       "      <td>GasA</td>\n",
       "      <td>Ex</td>\n",
       "      <td>Y</td>\n",
       "      <td>SBrkr</td>\n",
       "      <td>856</td>\n",
       "      <td>854</td>\n",
       "      <td>0</td>\n",
       "      <td>1710</td>\n",
       "      <td>1.0</td>\n",
       "      <td>0.0</td>\n",
       "      <td>2</td>\n",
       "      <td>1</td>\n",
       "      <td>3</td>\n",
       "      <td>1</td>\n",
       "      <td>Gd</td>\n",
       "      <td>8</td>\n",
       "      <td>Typ</td>\n",
       "      <td>0</td>\n",
       "      <td>NaN</td>\n",
       "      <td>Attchd</td>\n",
       "      <td>2003.0</td>\n",
       "      <td>RFn</td>\n",
       "      <td>2.0</td>\n",
       "      <td>548.0</td>\n",
       "      <td>TA</td>\n",
       "      <td>TA</td>\n",
       "      <td>Y</td>\n",
       "      <td>0</td>\n",
       "      <td>61</td>\n",
       "      <td>0</td>\n",
       "      <td>0</td>\n",
       "      <td>0</td>\n",
       "      <td>0</td>\n",
       "      <td>NaN</td>\n",
       "      <td>NaN</td>\n",
       "      <td>NaN</td>\n",
       "      <td>0</td>\n",
       "      <td>2</td>\n",
       "      <td>2008</td>\n",
       "      <td>WD</td>\n",
       "      <td>Normal</td>\n",
       "      <td>208500.0</td>\n",
       "    </tr>\n",
       "    <tr>\n",
       "      <th>1</th>\n",
       "      <td>2</td>\n",
       "      <td>20</td>\n",
       "      <td>RL</td>\n",
       "      <td>80.0</td>\n",
       "      <td>9600</td>\n",
       "      <td>Pave</td>\n",
       "      <td>NaN</td>\n",
       "      <td>Reg</td>\n",
       "      <td>Lvl</td>\n",
       "      <td>AllPub</td>\n",
       "      <td>FR2</td>\n",
       "      <td>Gtl</td>\n",
       "      <td>Veenker</td>\n",
       "      <td>Feedr</td>\n",
       "      <td>Norm</td>\n",
       "      <td>1Fam</td>\n",
       "      <td>1Story</td>\n",
       "      <td>6</td>\n",
       "      <td>8</td>\n",
       "      <td>1976</td>\n",
       "      <td>1976</td>\n",
       "      <td>Gable</td>\n",
       "      <td>CompShg</td>\n",
       "      <td>MetalSd</td>\n",
       "      <td>MetalSd</td>\n",
       "      <td>None</td>\n",
       "      <td>0.0</td>\n",
       "      <td>TA</td>\n",
       "      <td>TA</td>\n",
       "      <td>CBlock</td>\n",
       "      <td>Gd</td>\n",
       "      <td>TA</td>\n",
       "      <td>Gd</td>\n",
       "      <td>ALQ</td>\n",
       "      <td>978.0</td>\n",
       "      <td>Unf</td>\n",
       "      <td>0.0</td>\n",
       "      <td>284.0</td>\n",
       "      <td>1262.0</td>\n",
       "      <td>GasA</td>\n",
       "      <td>Ex</td>\n",
       "      <td>Y</td>\n",
       "      <td>SBrkr</td>\n",
       "      <td>1262</td>\n",
       "      <td>0</td>\n",
       "      <td>0</td>\n",
       "      <td>1262</td>\n",
       "      <td>0.0</td>\n",
       "      <td>1.0</td>\n",
       "      <td>2</td>\n",
       "      <td>0</td>\n",
       "      <td>3</td>\n",
       "      <td>1</td>\n",
       "      <td>TA</td>\n",
       "      <td>6</td>\n",
       "      <td>Typ</td>\n",
       "      <td>1</td>\n",
       "      <td>TA</td>\n",
       "      <td>Attchd</td>\n",
       "      <td>1976.0</td>\n",
       "      <td>RFn</td>\n",
       "      <td>2.0</td>\n",
       "      <td>460.0</td>\n",
       "      <td>TA</td>\n",
       "      <td>TA</td>\n",
       "      <td>Y</td>\n",
       "      <td>298</td>\n",
       "      <td>0</td>\n",
       "      <td>0</td>\n",
       "      <td>0</td>\n",
       "      <td>0</td>\n",
       "      <td>0</td>\n",
       "      <td>NaN</td>\n",
       "      <td>NaN</td>\n",
       "      <td>NaN</td>\n",
       "      <td>0</td>\n",
       "      <td>5</td>\n",
       "      <td>2007</td>\n",
       "      <td>WD</td>\n",
       "      <td>Normal</td>\n",
       "      <td>181500.0</td>\n",
       "    </tr>\n",
       "    <tr>\n",
       "      <th>2</th>\n",
       "      <td>3</td>\n",
       "      <td>60</td>\n",
       "      <td>RL</td>\n",
       "      <td>68.0</td>\n",
       "      <td>11250</td>\n",
       "      <td>Pave</td>\n",
       "      <td>NaN</td>\n",
       "      <td>IR1</td>\n",
       "      <td>Lvl</td>\n",
       "      <td>AllPub</td>\n",
       "      <td>Inside</td>\n",
       "      <td>Gtl</td>\n",
       "      <td>CollgCr</td>\n",
       "      <td>Norm</td>\n",
       "      <td>Norm</td>\n",
       "      <td>1Fam</td>\n",
       "      <td>2Story</td>\n",
       "      <td>7</td>\n",
       "      <td>5</td>\n",
       "      <td>2001</td>\n",
       "      <td>2002</td>\n",
       "      <td>Gable</td>\n",
       "      <td>CompShg</td>\n",
       "      <td>VinylSd</td>\n",
       "      <td>VinylSd</td>\n",
       "      <td>BrkFace</td>\n",
       "      <td>162.0</td>\n",
       "      <td>Gd</td>\n",
       "      <td>TA</td>\n",
       "      <td>PConc</td>\n",
       "      <td>Gd</td>\n",
       "      <td>TA</td>\n",
       "      <td>Mn</td>\n",
       "      <td>GLQ</td>\n",
       "      <td>486.0</td>\n",
       "      <td>Unf</td>\n",
       "      <td>0.0</td>\n",
       "      <td>434.0</td>\n",
       "      <td>920.0</td>\n",
       "      <td>GasA</td>\n",
       "      <td>Ex</td>\n",
       "      <td>Y</td>\n",
       "      <td>SBrkr</td>\n",
       "      <td>920</td>\n",
       "      <td>866</td>\n",
       "      <td>0</td>\n",
       "      <td>1786</td>\n",
       "      <td>1.0</td>\n",
       "      <td>0.0</td>\n",
       "      <td>2</td>\n",
       "      <td>1</td>\n",
       "      <td>3</td>\n",
       "      <td>1</td>\n",
       "      <td>Gd</td>\n",
       "      <td>6</td>\n",
       "      <td>Typ</td>\n",
       "      <td>1</td>\n",
       "      <td>TA</td>\n",
       "      <td>Attchd</td>\n",
       "      <td>2001.0</td>\n",
       "      <td>RFn</td>\n",
       "      <td>2.0</td>\n",
       "      <td>608.0</td>\n",
       "      <td>TA</td>\n",
       "      <td>TA</td>\n",
       "      <td>Y</td>\n",
       "      <td>0</td>\n",
       "      <td>42</td>\n",
       "      <td>0</td>\n",
       "      <td>0</td>\n",
       "      <td>0</td>\n",
       "      <td>0</td>\n",
       "      <td>NaN</td>\n",
       "      <td>NaN</td>\n",
       "      <td>NaN</td>\n",
       "      <td>0</td>\n",
       "      <td>9</td>\n",
       "      <td>2008</td>\n",
       "      <td>WD</td>\n",
       "      <td>Normal</td>\n",
       "      <td>223500.0</td>\n",
       "    </tr>\n",
       "    <tr>\n",
       "      <th>3</th>\n",
       "      <td>4</td>\n",
       "      <td>70</td>\n",
       "      <td>RL</td>\n",
       "      <td>60.0</td>\n",
       "      <td>9550</td>\n",
       "      <td>Pave</td>\n",
       "      <td>NaN</td>\n",
       "      <td>IR1</td>\n",
       "      <td>Lvl</td>\n",
       "      <td>AllPub</td>\n",
       "      <td>Corner</td>\n",
       "      <td>Gtl</td>\n",
       "      <td>Crawfor</td>\n",
       "      <td>Norm</td>\n",
       "      <td>Norm</td>\n",
       "      <td>1Fam</td>\n",
       "      <td>2Story</td>\n",
       "      <td>7</td>\n",
       "      <td>5</td>\n",
       "      <td>1915</td>\n",
       "      <td>1970</td>\n",
       "      <td>Gable</td>\n",
       "      <td>CompShg</td>\n",
       "      <td>Wd Sdng</td>\n",
       "      <td>Wd Shng</td>\n",
       "      <td>None</td>\n",
       "      <td>0.0</td>\n",
       "      <td>TA</td>\n",
       "      <td>TA</td>\n",
       "      <td>BrkTil</td>\n",
       "      <td>TA</td>\n",
       "      <td>Gd</td>\n",
       "      <td>No</td>\n",
       "      <td>ALQ</td>\n",
       "      <td>216.0</td>\n",
       "      <td>Unf</td>\n",
       "      <td>0.0</td>\n",
       "      <td>540.0</td>\n",
       "      <td>756.0</td>\n",
       "      <td>GasA</td>\n",
       "      <td>Gd</td>\n",
       "      <td>Y</td>\n",
       "      <td>SBrkr</td>\n",
       "      <td>961</td>\n",
       "      <td>756</td>\n",
       "      <td>0</td>\n",
       "      <td>1717</td>\n",
       "      <td>1.0</td>\n",
       "      <td>0.0</td>\n",
       "      <td>1</td>\n",
       "      <td>0</td>\n",
       "      <td>3</td>\n",
       "      <td>1</td>\n",
       "      <td>Gd</td>\n",
       "      <td>7</td>\n",
       "      <td>Typ</td>\n",
       "      <td>1</td>\n",
       "      <td>Gd</td>\n",
       "      <td>Detchd</td>\n",
       "      <td>1998.0</td>\n",
       "      <td>Unf</td>\n",
       "      <td>3.0</td>\n",
       "      <td>642.0</td>\n",
       "      <td>TA</td>\n",
       "      <td>TA</td>\n",
       "      <td>Y</td>\n",
       "      <td>0</td>\n",
       "      <td>35</td>\n",
       "      <td>272</td>\n",
       "      <td>0</td>\n",
       "      <td>0</td>\n",
       "      <td>0</td>\n",
       "      <td>NaN</td>\n",
       "      <td>NaN</td>\n",
       "      <td>NaN</td>\n",
       "      <td>0</td>\n",
       "      <td>2</td>\n",
       "      <td>2006</td>\n",
       "      <td>WD</td>\n",
       "      <td>Abnorml</td>\n",
       "      <td>140000.0</td>\n",
       "    </tr>\n",
       "    <tr>\n",
       "      <th>4</th>\n",
       "      <td>5</td>\n",
       "      <td>60</td>\n",
       "      <td>RL</td>\n",
       "      <td>84.0</td>\n",
       "      <td>14260</td>\n",
       "      <td>Pave</td>\n",
       "      <td>NaN</td>\n",
       "      <td>IR1</td>\n",
       "      <td>Lvl</td>\n",
       "      <td>AllPub</td>\n",
       "      <td>FR2</td>\n",
       "      <td>Gtl</td>\n",
       "      <td>NoRidge</td>\n",
       "      <td>Norm</td>\n",
       "      <td>Norm</td>\n",
       "      <td>1Fam</td>\n",
       "      <td>2Story</td>\n",
       "      <td>8</td>\n",
       "      <td>5</td>\n",
       "      <td>2000</td>\n",
       "      <td>2000</td>\n",
       "      <td>Gable</td>\n",
       "      <td>CompShg</td>\n",
       "      <td>VinylSd</td>\n",
       "      <td>VinylSd</td>\n",
       "      <td>BrkFace</td>\n",
       "      <td>350.0</td>\n",
       "      <td>Gd</td>\n",
       "      <td>TA</td>\n",
       "      <td>PConc</td>\n",
       "      <td>Gd</td>\n",
       "      <td>TA</td>\n",
       "      <td>Av</td>\n",
       "      <td>GLQ</td>\n",
       "      <td>655.0</td>\n",
       "      <td>Unf</td>\n",
       "      <td>0.0</td>\n",
       "      <td>490.0</td>\n",
       "      <td>1145.0</td>\n",
       "      <td>GasA</td>\n",
       "      <td>Ex</td>\n",
       "      <td>Y</td>\n",
       "      <td>SBrkr</td>\n",
       "      <td>1145</td>\n",
       "      <td>1053</td>\n",
       "      <td>0</td>\n",
       "      <td>2198</td>\n",
       "      <td>1.0</td>\n",
       "      <td>0.0</td>\n",
       "      <td>2</td>\n",
       "      <td>1</td>\n",
       "      <td>4</td>\n",
       "      <td>1</td>\n",
       "      <td>Gd</td>\n",
       "      <td>9</td>\n",
       "      <td>Typ</td>\n",
       "      <td>1</td>\n",
       "      <td>TA</td>\n",
       "      <td>Attchd</td>\n",
       "      <td>2000.0</td>\n",
       "      <td>RFn</td>\n",
       "      <td>3.0</td>\n",
       "      <td>836.0</td>\n",
       "      <td>TA</td>\n",
       "      <td>TA</td>\n",
       "      <td>Y</td>\n",
       "      <td>192</td>\n",
       "      <td>84</td>\n",
       "      <td>0</td>\n",
       "      <td>0</td>\n",
       "      <td>0</td>\n",
       "      <td>0</td>\n",
       "      <td>NaN</td>\n",
       "      <td>NaN</td>\n",
       "      <td>NaN</td>\n",
       "      <td>0</td>\n",
       "      <td>12</td>\n",
       "      <td>2008</td>\n",
       "      <td>WD</td>\n",
       "      <td>Normal</td>\n",
       "      <td>250000.0</td>\n",
       "    </tr>\n",
       "  </tbody>\n",
       "</table>\n",
       "</div>"
      ],
      "text/plain": [
       "   Id  MSSubClass MSZoning  LotFrontage  LotArea Street Alley LotShape  \\\n",
       "0   1          60       RL         65.0     8450   Pave   NaN      Reg   \n",
       "1   2          20       RL         80.0     9600   Pave   NaN      Reg   \n",
       "2   3          60       RL         68.0    11250   Pave   NaN      IR1   \n",
       "3   4          70       RL         60.0     9550   Pave   NaN      IR1   \n",
       "4   5          60       RL         84.0    14260   Pave   NaN      IR1   \n",
       "\n",
       "  LandContour Utilities LotConfig LandSlope Neighborhood Condition1  \\\n",
       "0         Lvl    AllPub    Inside       Gtl      CollgCr       Norm   \n",
       "1         Lvl    AllPub       FR2       Gtl      Veenker      Feedr   \n",
       "2         Lvl    AllPub    Inside       Gtl      CollgCr       Norm   \n",
       "3         Lvl    AllPub    Corner       Gtl      Crawfor       Norm   \n",
       "4         Lvl    AllPub       FR2       Gtl      NoRidge       Norm   \n",
       "\n",
       "  Condition2 BldgType HouseStyle  OverallQual  OverallCond  YearBuilt  \\\n",
       "0       Norm     1Fam     2Story            7            5       2003   \n",
       "1       Norm     1Fam     1Story            6            8       1976   \n",
       "2       Norm     1Fam     2Story            7            5       2001   \n",
       "3       Norm     1Fam     2Story            7            5       1915   \n",
       "4       Norm     1Fam     2Story            8            5       2000   \n",
       "\n",
       "   YearRemodAdd RoofStyle RoofMatl Exterior1st Exterior2nd MasVnrType  \\\n",
       "0          2003     Gable  CompShg     VinylSd     VinylSd    BrkFace   \n",
       "1          1976     Gable  CompShg     MetalSd     MetalSd       None   \n",
       "2          2002     Gable  CompShg     VinylSd     VinylSd    BrkFace   \n",
       "3          1970     Gable  CompShg     Wd Sdng     Wd Shng       None   \n",
       "4          2000     Gable  CompShg     VinylSd     VinylSd    BrkFace   \n",
       "\n",
       "   MasVnrArea ExterQual ExterCond Foundation BsmtQual BsmtCond BsmtExposure  \\\n",
       "0       196.0        Gd        TA      PConc       Gd       TA           No   \n",
       "1         0.0        TA        TA     CBlock       Gd       TA           Gd   \n",
       "2       162.0        Gd        TA      PConc       Gd       TA           Mn   \n",
       "3         0.0        TA        TA     BrkTil       TA       Gd           No   \n",
       "4       350.0        Gd        TA      PConc       Gd       TA           Av   \n",
       "\n",
       "  BsmtFinType1  BsmtFinSF1 BsmtFinType2  BsmtFinSF2  BsmtUnfSF  TotalBsmtSF  \\\n",
       "0          GLQ       706.0          Unf         0.0      150.0        856.0   \n",
       "1          ALQ       978.0          Unf         0.0      284.0       1262.0   \n",
       "2          GLQ       486.0          Unf         0.0      434.0        920.0   \n",
       "3          ALQ       216.0          Unf         0.0      540.0        756.0   \n",
       "4          GLQ       655.0          Unf         0.0      490.0       1145.0   \n",
       "\n",
       "  Heating HeatingQC CentralAir Electrical  1stFlrSF  2ndFlrSF  LowQualFinSF  \\\n",
       "0    GasA        Ex          Y      SBrkr       856       854             0   \n",
       "1    GasA        Ex          Y      SBrkr      1262         0             0   \n",
       "2    GasA        Ex          Y      SBrkr       920       866             0   \n",
       "3    GasA        Gd          Y      SBrkr       961       756             0   \n",
       "4    GasA        Ex          Y      SBrkr      1145      1053             0   \n",
       "\n",
       "   GrLivArea  BsmtFullBath  BsmtHalfBath  FullBath  HalfBath  BedroomAbvGr  \\\n",
       "0       1710           1.0           0.0         2         1             3   \n",
       "1       1262           0.0           1.0         2         0             3   \n",
       "2       1786           1.0           0.0         2         1             3   \n",
       "3       1717           1.0           0.0         1         0             3   \n",
       "4       2198           1.0           0.0         2         1             4   \n",
       "\n",
       "   KitchenAbvGr KitchenQual  TotRmsAbvGrd Functional  Fireplaces FireplaceQu  \\\n",
       "0             1          Gd             8        Typ           0         NaN   \n",
       "1             1          TA             6        Typ           1          TA   \n",
       "2             1          Gd             6        Typ           1          TA   \n",
       "3             1          Gd             7        Typ           1          Gd   \n",
       "4             1          Gd             9        Typ           1          TA   \n",
       "\n",
       "  GarageType  GarageYrBlt GarageFinish  GarageCars  GarageArea GarageQual  \\\n",
       "0     Attchd       2003.0          RFn         2.0       548.0         TA   \n",
       "1     Attchd       1976.0          RFn         2.0       460.0         TA   \n",
       "2     Attchd       2001.0          RFn         2.0       608.0         TA   \n",
       "3     Detchd       1998.0          Unf         3.0       642.0         TA   \n",
       "4     Attchd       2000.0          RFn         3.0       836.0         TA   \n",
       "\n",
       "  GarageCond PavedDrive  WoodDeckSF  OpenPorchSF  EnclosedPorch  3SsnPorch  \\\n",
       "0         TA          Y           0           61              0          0   \n",
       "1         TA          Y         298            0              0          0   \n",
       "2         TA          Y           0           42              0          0   \n",
       "3         TA          Y           0           35            272          0   \n",
       "4         TA          Y         192           84              0          0   \n",
       "\n",
       "   ScreenPorch  PoolArea PoolQC Fence MiscFeature  MiscVal  MoSold  YrSold  \\\n",
       "0            0         0    NaN   NaN         NaN        0       2    2008   \n",
       "1            0         0    NaN   NaN         NaN        0       5    2007   \n",
       "2            0         0    NaN   NaN         NaN        0       9    2008   \n",
       "3            0         0    NaN   NaN         NaN        0       2    2006   \n",
       "4            0         0    NaN   NaN         NaN        0      12    2008   \n",
       "\n",
       "  SaleType SaleCondition  SalePrice  \n",
       "0       WD        Normal   208500.0  \n",
       "1       WD        Normal   181500.0  \n",
       "2       WD        Normal   223500.0  \n",
       "3       WD       Abnorml   140000.0  \n",
       "4       WD        Normal   250000.0  "
      ]
     },
     "execution_count": 10,
     "metadata": {},
     "output_type": "execute_result"
    }
   ],
   "source": [
    "ds.head()"
   ]
  },
  {
   "cell_type": "markdown",
   "id": "33a1af89",
   "metadata": {},
   "source": [
    "Заполним пропущенные значения в столбцах с вещественными значениями:"
   ]
  },
  {
   "cell_type": "code",
   "execution_count": 11,
   "id": "ec60d1fb",
   "metadata": {},
   "outputs": [],
   "source": [
    "ds.loc[ds['LotFrontage'].isnull() == True, 'LotFrontage'] = ds['LotFrontage'].median()"
   ]
  },
  {
   "cell_type": "code",
   "execution_count": 12,
   "id": "02594273",
   "metadata": {},
   "outputs": [],
   "source": [
    "ds.loc[ds['MasVnrArea'].isnull() == True, 'MasVnrArea'] = ds['MasVnrArea'].median()"
   ]
  },
  {
   "cell_type": "code",
   "execution_count": 13,
   "id": "36824289",
   "metadata": {},
   "outputs": [],
   "source": [
    "ds.loc[ds['GarageYrBlt'].isnull() == True, 'GarageYrBlt'] = ds['GarageYrBlt'].median()"
   ]
  },
  {
   "cell_type": "code",
   "execution_count": 14,
   "id": "8763c6e2",
   "metadata": {},
   "outputs": [],
   "source": [
    "ds = pd.get_dummies(ds)"
   ]
  },
  {
   "cell_type": "code",
   "execution_count": 15,
   "id": "239733c9",
   "metadata": {},
   "outputs": [
    {
     "data": {
      "text/plain": [
       "(2919, 290)"
      ]
     },
     "execution_count": 15,
     "metadata": {},
     "output_type": "execute_result"
    }
   ],
   "source": [
    "ds.shape"
   ]
  },
  {
   "cell_type": "code",
   "execution_count": 16,
   "id": "01dd9bed",
   "metadata": {},
   "outputs": [],
   "source": [
    "df_train = ds[ds['SalePrice'].notnull()]\n",
    "df_test = ds[ds['SalePrice'].isnull()]\n",
    "df_test = df_test.drop(['SalePrice'], axis=1)"
   ]
  },
  {
   "cell_type": "code",
   "execution_count": 17,
   "id": "3c6e656f",
   "metadata": {},
   "outputs": [
    {
     "data": {
      "text/plain": [
       "(1460, 290)"
      ]
     },
     "execution_count": 17,
     "metadata": {},
     "output_type": "execute_result"
    }
   ],
   "source": [
    "df_train.shape"
   ]
  },
  {
   "cell_type": "code",
   "execution_count": 18,
   "id": "b6d24a9b",
   "metadata": {},
   "outputs": [
    {
     "data": {
      "text/plain": [
       "(1459, 289)"
      ]
     },
     "execution_count": 18,
     "metadata": {},
     "output_type": "execute_result"
    }
   ],
   "source": [
    "df_test.shape"
   ]
  },
  {
   "cell_type": "code",
   "execution_count": 56,
   "id": "d0620f71",
   "metadata": {},
   "outputs": [],
   "source": [
    "# pd.isnull(df_train).sum()"
   ]
  },
  {
   "cell_type": "code",
   "execution_count": 57,
   "id": "ae1705ba",
   "metadata": {},
   "outputs": [],
   "source": [
    "# pd.isnull(df_test.drop('Id', axis=1)).sum()"
   ]
  },
  {
   "cell_type": "markdown",
   "id": "8eb6c949",
   "metadata": {},
   "source": [
    "В тренировочном датасете пропусков нет, но в тестовом пропуски есть, их надо заполнить:"
   ]
  },
  {
   "cell_type": "code",
   "execution_count": 20,
   "id": "68f990ab",
   "metadata": {},
   "outputs": [],
   "source": [
    "df_test.loc[df_test['BsmtFinSF1'].isnull() == True, 'BsmtFinSF1'] = df_test['BsmtFinSF1'].mean()"
   ]
  },
  {
   "cell_type": "code",
   "execution_count": 21,
   "id": "84c9e947",
   "metadata": {},
   "outputs": [],
   "source": [
    "df_test.loc[df_test['BsmtFinSF2'].isnull() == True, 'BsmtFinSF2'] = df_test['BsmtFinSF2'].mean()"
   ]
  },
  {
   "cell_type": "code",
   "execution_count": 22,
   "id": "61c51cce",
   "metadata": {},
   "outputs": [],
   "source": [
    "df_test.loc[df_test['BsmtUnfSF'].isnull() == True, 'BsmtUnfSF'] = df_test['BsmtUnfSF'].mean()"
   ]
  },
  {
   "cell_type": "code",
   "execution_count": 23,
   "id": "46ea3d05",
   "metadata": {},
   "outputs": [],
   "source": [
    "df_test.loc[df_test['TotalBsmtSF'].isnull() == True, 'TotalBsmtSF'] = df_test['TotalBsmtSF'].mean()"
   ]
  },
  {
   "cell_type": "code",
   "execution_count": 24,
   "id": "669466ae",
   "metadata": {},
   "outputs": [],
   "source": [
    "df_test.loc[df_test['BsmtFullBath'].isnull() == True, 'BsmtFullBath'] = df_test['BsmtFullBath'].mean()"
   ]
  },
  {
   "cell_type": "code",
   "execution_count": 25,
   "id": "cce139d6",
   "metadata": {},
   "outputs": [],
   "source": [
    "df_test.loc[df_test['BsmtHalfBath'].isnull() == True, 'BsmtHalfBath'] = df_test['BsmtHalfBath'].mean()"
   ]
  },
  {
   "cell_type": "code",
   "execution_count": 26,
   "id": "0cb28f03",
   "metadata": {},
   "outputs": [],
   "source": [
    "df_test.loc[df_test['GarageCars'].isnull() == True, 'GarageCars'] = df_test['GarageCars'].mean()"
   ]
  },
  {
   "cell_type": "code",
   "execution_count": 27,
   "id": "89350b57",
   "metadata": {},
   "outputs": [],
   "source": [
    "df_test.loc[df_test['GarageArea'].isnull() == True, 'GarageArea'] = df_test['GarageArea'].mean()"
   ]
  },
  {
   "cell_type": "code",
   "execution_count": 28,
   "id": "a8d1fc8a",
   "metadata": {},
   "outputs": [],
   "source": [
    "# pd.isnull(df_test.drop('Id', axis=1)).sum()"
   ]
  },
  {
   "cell_type": "markdown",
   "id": "e21f8ce7",
   "metadata": {},
   "source": [
    "Посмотрим на распределение вещественных переменных:"
   ]
  },
  {
   "cell_type": "code",
   "execution_count": 20,
   "id": "a3b024ea",
   "metadata": {},
   "outputs": [
    {
     "data": {
      "image/png": "[encoded data removed]",
      "text/plain": [
       "<Figure size 1152x288 with 1 Axes>"
      ]
     },
     "metadata": {},
     "output_type": "display_data"
    },
    {
     "data": {
      "image/png": "[encoded data removed]",
      "text/plain": [
       "<Figure size 1152x288 with 1 Axes>"
      ]
     },
     "metadata": {},
     "output_type": "display_data"
    },
    {
     "data": {
      "image/png": "[encoded data removed]",
      "text/plain": [
       "<Figure size 1152x288 with 1 Axes>"
      ]
     },
     "metadata": {},
     "output_type": "display_data"
    }
   ],
   "source": [
    "numerical_df = df_train.select_dtypes(include=['float'])\n",
    "# numerical_df = numerical_df.drop([\"Id\"], axis=1)\n",
    "for column in numerical_df:\n",
    "    plt.figure(figsize=(16, 4))\n",
    "    sns.set_theme(style=\"whitegrid\")\n",
    "    sns.boxplot(x=numerical_df[column], showmeans=True)"
   ]
  },
  {
   "cell_type": "markdown",
   "id": "3c5835e7",
   "metadata": {},
   "source": [
    "# Обучение моделей"
   ]
  },
  {
   "cell_type": "code",
   "execution_count": 34,
   "id": "0692a749",
   "metadata": {},
   "outputs": [],
   "source": [
    "X = df_train.drop(['SalePrice', 'Id'], axis=1)"
   ]
  },
  {
   "cell_type": "code",
   "execution_count": 35,
   "id": "b21441ee",
   "metadata": {},
   "outputs": [],
   "source": [
    "y = df_train['SalePrice']"
   ]
  },
  {
   "cell_type": "code",
   "execution_count": 36,
   "id": "dcd051e6",
   "metadata": {},
   "outputs": [],
   "source": [
    "X_train, X_val, y_train, y_val = train_test_split(X, y, random_state=0)"
   ]
  },
  {
   "cell_type": "code",
   "execution_count": 37,
   "id": "8d9c8b36",
   "metadata": {},
   "outputs": [
    {
     "data": {
      "text/plain": [
       "(1095, 288)"
      ]
     },
     "execution_count": 37,
     "metadata": {},
     "output_type": "execute_result"
    }
   ],
   "source": [
    "X_train.shape"
   ]
  },
  {
   "cell_type": "code",
   "execution_count": 38,
   "id": "49378eee",
   "metadata": {},
   "outputs": [
    {
     "data": {
      "text/plain": [
       "(365, 288)"
      ]
     },
     "execution_count": 38,
     "metadata": {},
     "output_type": "execute_result"
    }
   ],
   "source": [
    "X_val.shape"
   ]
  },
  {
   "cell_type": "code",
   "execution_count": 39,
   "id": "ce0b5cbe",
   "metadata": {},
   "outputs": [
    {
     "data": {
      "text/plain": [
       "(1095,)"
      ]
     },
     "execution_count": 39,
     "metadata": {},
     "output_type": "execute_result"
    }
   ],
   "source": [
    "y_train.shape"
   ]
  },
  {
   "cell_type": "code",
   "execution_count": 40,
   "id": "ac6aac1f",
   "metadata": {
    "scrolled": true
   },
   "outputs": [
    {
     "data": {
      "text/plain": [
       "(365,)"
      ]
     },
     "execution_count": 40,
     "metadata": {},
     "output_type": "execute_result"
    }
   ],
   "source": [
    "y_val.shape"
   ]
  },
  {
   "cell_type": "code",
   "execution_count": 41,
   "id": "b4564edd",
   "metadata": {},
   "outputs": [],
   "source": [
    "def rmse_cv(model):\n",
    "    rmse= np.sqrt(-cross_val_score(model, X, y, scoring=\"neg_mean_squared_error\", cv = 5, n_jobs=-1))\n",
    "    return(rmse)"
   ]
  },
  {
   "cell_type": "markdown",
   "id": "08410a23",
   "metadata": {},
   "source": [
    "## KNNR"
   ]
  },
  {
   "cell_type": "markdown",
   "id": "38d9b6b3",
   "metadata": {},
   "source": [
    "### Score: 0.24100"
   ]
  },
  {
   "cell_type": "code",
   "execution_count": 54,
   "id": "563a77ec",
   "metadata": {},
   "outputs": [
    {
     "name": "stdout",
     "output_type": "stream",
     "text": [
      "Правильность на обучающем наборе: 0.8199\n",
      "Правильность на тестовом наборе: 0.6760\n"
     ]
    }
   ],
   "source": [
    "KNNR = KNeighborsRegressor(n_neighbors=3)\n",
    "KNNR.fit(X_train, y_train)\n",
    "y_pred = KNNR.predict(X_val)\n",
    "\n",
    "print('Правильность на обучающем наборе: {:.4f}'.format(KNNR.score(X_train, y_train)))\n",
    "print('Правильность на тестовом наборе: {:.4f}'.format(KNNR.score(X_val, y_val)))"
   ]
  },
  {
   "cell_type": "code",
   "execution_count": 55,
   "id": "252834dd",
   "metadata": {},
   "outputs": [],
   "source": [
    "KNNR_score = rmse_cv(KNNR).mean()"
   ]
  },
  {
   "cell_type": "code",
   "execution_count": 58,
   "id": "3c957be3",
   "metadata": {},
   "outputs": [
    {
     "data": {
      "text/plain": [
       "46912.525595646715"
      ]
     },
     "execution_count": 58,
     "metadata": {},
     "output_type": "execute_result"
    }
   ],
   "source": [
    "KNNR_score"
   ]
  },
  {
   "cell_type": "code",
   "execution_count": 120,
   "id": "514bdcad",
   "metadata": {
    "scrolled": true
   },
   "outputs": [],
   "source": [
    "ids = df_test['Id']\n",
    "predictions = KNNR.predict(df_test.drop('Id', axis=1))\n",
    "\n",
    "#set the output as a dataframe and convert to csv file named submission.csv\n",
    "output = pd.DataFrame({ 'Id' : ids, 'SalePrice': predictions })\n",
    "output.to_csv('KNNR_0.6760_46251.5.csv', index=False)"
   ]
  },
  {
   "cell_type": "markdown",
   "id": "4c714333",
   "metadata": {},
   "source": [
    "## LinearRegression"
   ]
  },
  {
   "cell_type": "code",
   "execution_count": 59,
   "id": "5bbb6acb",
   "metadata": {},
   "outputs": [
    {
     "name": "stdout",
     "output_type": "stream",
     "text": [
      "Правильность на обучающем наборе: 0.9452\n",
      "Правильность на тестовом наборе: 0.5479\n"
     ]
    }
   ],
   "source": [
    "LineReg = LinearRegression()\n",
    "LineReg.fit(X_train, y_train)\n",
    "y_pred = LineReg.predict(X_val)\n",
    "\n",
    "print('Правильность на обучающем наборе: {:.4f}'.format(LineReg.score(X_train, y_train)))\n",
    "print('Правильность на тестовом наборе: {:.4f}'.format(LineReg.score(X_val, y_val)))"
   ]
  },
  {
   "cell_type": "code",
   "execution_count": 60,
   "id": "472b2d1d",
   "metadata": {},
   "outputs": [],
   "source": [
    "LineReg_score = rmse_cv(LineReg).mean()"
   ]
  },
  {
   "cell_type": "code",
   "execution_count": 61,
   "id": "7f4f3132",
   "metadata": {},
   "outputs": [
    {
     "data": {
      "text/plain": [
       "137079999.22735927"
      ]
     },
     "execution_count": 61,
     "metadata": {},
     "output_type": "execute_result"
    }
   ],
   "source": [
    "LineReg_score"
   ]
  },
  {
   "cell_type": "markdown",
   "id": "be0dbd7a",
   "metadata": {},
   "source": [
    "## Ridge"
   ]
  },
  {
   "cell_type": "code",
   "execution_count": 62,
   "id": "8955a167",
   "metadata": {},
   "outputs": [
    {
     "name": "stdout",
     "output_type": "stream",
     "text": [
      "Правильность на обучающем наборе: 0.9101\n",
      "Правильность на тестовом наборе: 0.7461\n"
     ]
    }
   ],
   "source": [
    "ridge = Ridge(alpha=25)\n",
    "ridge.fit(X_train, y_train)\n",
    "\n",
    "print('Правильность на обучающем наборе: {:.4f}'.format(ridge.score(X_train, y_train)))\n",
    "print('Правильность на тестовом наборе: {:.4f}'.format(ridge.score(X_val, y_val)))"
   ]
  },
  {
   "cell_type": "code",
   "execution_count": 64,
   "id": "557c3644",
   "metadata": {},
   "outputs": [],
   "source": [
    "ridge_score = rmse_cv(ridge).mean()"
   ]
  },
  {
   "cell_type": "code",
   "execution_count": 65,
   "id": "fde8ec21",
   "metadata": {},
   "outputs": [
    {
     "data": {
      "text/plain": [
       "31235.469911255546"
      ]
     },
     "execution_count": 65,
     "metadata": {},
     "output_type": "execute_result"
    }
   ],
   "source": [
    "ridge_score"
   ]
  },
  {
   "cell_type": "code",
   "execution_count": 216,
   "id": "37d19048",
   "metadata": {},
   "outputs": [],
   "source": [
    "ids = df_test['Id']\n",
    "predictions = ridge.predict(df_test.drop('Id', axis=1))\n",
    "\n",
    "#set the output as a dataframe and convert to csv file named submission.csv\n",
    "output = pd.DataFrame({ 'Id' : ids, 'SalePrice': predictions })\n",
    "output.to_csv('ridge25_0.7461_31235.5.csv', index=False)"
   ]
  },
  {
   "cell_type": "markdown",
   "id": "87e0b96e",
   "metadata": {},
   "source": [
    "## Ridge & PolynomialFeatures"
   ]
  },
  {
   "cell_type": "code",
   "execution_count": 66,
   "id": "9d20d922",
   "metadata": {},
   "outputs": [
    {
     "name": "stdout",
     "output_type": "stream",
     "text": [
      "Wall time: 7.62 s\n"
     ]
    },
    {
     "data": {
      "text/plain": [
       "GridSearchCV(cv=5,\n",
       "             estimator=Pipeline(steps=[('polynomialfeatures',\n",
       "                                        PolynomialFeatures()),\n",
       "                                       ('ridge', Ridge())]),\n",
       "             n_jobs=-1,\n",
       "             param_grid={'polynomialfeatures__degree': [1, 2],\n",
       "                         'ridge__alpha': [5, 10, 15, 20]})"
      ]
     },
     "execution_count": 66,
     "metadata": {},
     "output_type": "execute_result"
    }
   ],
   "source": [
    "%%time\n",
    "from sklearn.preprocessing import PolynomialFeatures\n",
    "pipe = make_pipeline(PolynomialFeatures(), Ridge())\n",
    "\n",
    "param_grid = {'ridge__alpha': [5, 10, 15,20], \n",
    "              'polynomialfeatures__degree': [1, 2]}\n",
    "\n",
    "grid = GridSearchCV(pipe, param_grid=param_grid, cv=5, n_jobs=-1)\n",
    "grid.fit(X_train, y_train);"
   ]
  },
  {
   "cell_type": "code",
   "execution_count": 67,
   "id": "3fa8bbb9",
   "metadata": {},
   "outputs": [
    {
     "name": "stdout",
     "output_type": "stream",
     "text": [
      "Правильность на тестовом наборе: 0.7364\n",
      "Наилучшие параметры: {'polynomialfeatures__degree': 1, 'ridge__alpha': 5}\n",
      "Наил значение правильности перекр проверки: 0.8742\n"
     ]
    }
   ],
   "source": [
    "print(\"Правильность на тестовом наборе: {:.4f}\".format(grid.score(X_val, y_val)))\n",
    "print(\"Наилучшие параметры: {}\".format(grid.best_params_))\n",
    "print(\"Наил значение правильности перекр проверки: {:.4f}\".format(grid.best_score_))"
   ]
  },
  {
   "cell_type": "code",
   "execution_count": 70,
   "id": "b2fa77ed",
   "metadata": {},
   "outputs": [],
   "source": [
    "ridge_PF_score = rmse_cv(grid).mean()"
   ]
  },
  {
   "cell_type": "code",
   "execution_count": 71,
   "id": "c029f388",
   "metadata": {},
   "outputs": [
    {
     "data": {
      "text/plain": [
       "31291.568060491765"
      ]
     },
     "execution_count": 71,
     "metadata": {},
     "output_type": "execute_result"
    }
   ],
   "source": [
    "ridge_PF_score"
   ]
  },
  {
   "cell_type": "code",
   "execution_count": 64,
   "id": "80aa52e2",
   "metadata": {},
   "outputs": [],
   "source": [
    "ids = df_test['Id']\n",
    "predictions = grid.predict(df_test.drop('Id', axis=1))\n",
    "\n",
    "#set the output as a dataframe and convert to csv file named submission.csv\n",
    "output = pd.DataFrame({ 'Id' : ids, 'SalePrice': predictions })\n",
    "output.to_csv('Ridge,PF_0.8742.csv', index=False)"
   ]
  },
  {
   "cell_type": "markdown",
   "id": "762476c9",
   "metadata": {},
   "source": [
    "## Lasso"
   ]
  },
  {
   "cell_type": "code",
   "execution_count": 72,
   "id": "51996c19",
   "metadata": {},
   "outputs": [
    {
     "name": "stdout",
     "output_type": "stream",
     "text": [
      "Правильность на обучающем наборе: 0.8971\n",
      "Правильность на тестовом наборе: 0.7358\n"
     ]
    }
   ],
   "source": [
    "lasso = Lasso(max_iter=10000, alpha=325)\n",
    "lasso.fit(X_train, y_train)\n",
    "\n",
    "print('Правильность на обучающем наборе: {:.4f}'.format(lasso.score(X_train, y_train)))\n",
    "print('Правильность на тестовом наборе: {:.4f}'.format(lasso.score(X_val, y_val)))"
   ]
  },
  {
   "cell_type": "code",
   "execution_count": 73,
   "id": "66d87178",
   "metadata": {},
   "outputs": [],
   "source": [
    "lasso_score = rmse_cv(lasso).mean()"
   ]
  },
  {
   "cell_type": "code",
   "execution_count": 74,
   "id": "413ac86e",
   "metadata": {},
   "outputs": [
    {
     "data": {
      "text/plain": [
       "31257.236059106548"
      ]
     },
     "execution_count": 74,
     "metadata": {},
     "output_type": "execute_result"
    }
   ],
   "source": [
    "lasso_score"
   ]
  },
  {
   "cell_type": "code",
   "execution_count": 231,
   "id": "fb8299a8",
   "metadata": {},
   "outputs": [],
   "source": [
    "ids = df_test['Id']\n",
    "predictions = lasso.predict(df_test.drop('Id', axis=1))\n",
    "\n",
    "#set the output as a dataframe and convert to csv file named submission.csv\n",
    "output = pd.DataFrame({ 'Id' : ids, 'SalePrice': predictions })\n",
    "output.to_csv('lasso325_0.7358_31257.2.csv', index=False)"
   ]
  },
  {
   "cell_type": "markdown",
   "id": "b116557e",
   "metadata": {},
   "source": [
    "## RandomForestRegressor"
   ]
  },
  {
   "cell_type": "markdown",
   "id": "0d0c0481",
   "metadata": {},
   "source": [
    "### Score: 0.14877"
   ]
  },
  {
   "cell_type": "code",
   "execution_count": 75,
   "id": "385bce4e",
   "metadata": {
    "scrolled": true
   },
   "outputs": [
    {
     "name": "stdout",
     "output_type": "stream",
     "text": [
      "Правильность на обучающем наборе: 0.9801\n",
      "Правильность на тестовом наборе: 0.8524\n"
     ]
    }
   ],
   "source": [
    "RandForestR = RandomForestRegressor(n_estimators=500, max_depth=14, n_jobs=-1)\n",
    "RandForestR.fit(X_train, y_train)\n",
    "\n",
    "print('Правильность на обучающем наборе: {:.4f}'.format(RandForestR.score(X_train, y_train)))\n",
    "print('Правильность на тестовом наборе: {:.4f}'.format(RandForestR.score(X_val, y_val)))"
   ]
  },
  {
   "cell_type": "code",
   "execution_count": 76,
   "id": "0bee5d3d",
   "metadata": {
    "scrolled": true
   },
   "outputs": [],
   "source": [
    "RandForestR_score1 = rmse_cv(RandForestR).mean()"
   ]
  },
  {
   "cell_type": "code",
   "execution_count": 77,
   "id": "540e4757",
   "metadata": {},
   "outputs": [
    {
     "data": {
      "text/plain": [
       "29824.548860425555"
      ]
     },
     "execution_count": 77,
     "metadata": {},
     "output_type": "execute_result"
    }
   ],
   "source": [
    "RandForestR_score1"
   ]
  },
  {
   "cell_type": "code",
   "execution_count": 272,
   "id": "b6730e60",
   "metadata": {},
   "outputs": [],
   "source": [
    "ids = df_test['Id']\n",
    "predictions = RandForestR.predict(df_test.drop('Id', axis=1))\n",
    "\n",
    "#set the output as a dataframe and convert to csv file named submission.csv\n",
    "output = pd.DataFrame({ 'Id' : ids, 'SalePrice': predictions })\n",
    "output.to_csv('RandForestR500,14_0.8527_29852.9.csv', index=False)"
   ]
  },
  {
   "cell_type": "markdown",
   "id": "e6faab22",
   "metadata": {},
   "source": [
    "### Score: 0.14871"
   ]
  },
  {
   "cell_type": "code",
   "execution_count": 78,
   "id": "5d61297d",
   "metadata": {},
   "outputs": [
    {
     "name": "stdout",
     "output_type": "stream",
     "text": [
      "Правильность на обучающем наборе: 0.9805\n",
      "Правильность на тестовом наборе: 0.8539\n"
     ]
    }
   ],
   "source": [
    "RandForestR = RandomForestRegressor(n_estimators=1000, n_jobs=-1)\n",
    "RandForestR.fit(X_train, y_train)\n",
    "\n",
    "print('Правильность на обучающем наборе: {:.4f}'.format(RandForestR.score(X_train, y_train)))\n",
    "print('Правильность на тестовом наборе: {:.4f}'.format(RandForestR.score(X_val, y_val)))"
   ]
  },
  {
   "cell_type": "code",
   "execution_count": 79,
   "id": "d04e1e7b",
   "metadata": {},
   "outputs": [],
   "source": [
    "RandForestR_score2 = rmse_cv(RandForestR).mean()"
   ]
  },
  {
   "cell_type": "code",
   "execution_count": 80,
   "id": "734fd121",
   "metadata": {},
   "outputs": [
    {
     "data": {
      "text/plain": [
       "29859.678868104354"
      ]
     },
     "execution_count": 80,
     "metadata": {},
     "output_type": "execute_result"
    }
   ],
   "source": [
    "RandForestR_score2"
   ]
  },
  {
   "cell_type": "code",
   "execution_count": 276,
   "id": "6f72876f",
   "metadata": {},
   "outputs": [],
   "source": [
    "ids = df_test['Id']\n",
    "predictions = RandForestR.predict(df_test.drop('Id', axis=1))\n",
    "\n",
    "#set the output as a dataframe and convert to csv file named submission.csv\n",
    "output = pd.DataFrame({ 'Id' : ids, 'SalePrice': predictions })\n",
    "output.to_csv('RandForestR1000_0.8541_30024.9.csv', index=False)"
   ]
  },
  {
   "cell_type": "markdown",
   "id": "a0592fcb",
   "metadata": {},
   "source": [
    "## GradientBoostingRegressor"
   ]
  },
  {
   "cell_type": "markdown",
   "id": "fda51b74",
   "metadata": {},
   "source": [
    "### Score: 0.14605"
   ]
  },
  {
   "cell_type": "code",
   "execution_count": 81,
   "id": "0db969e4",
   "metadata": {},
   "outputs": [
    {
     "name": "stdout",
     "output_type": "stream",
     "text": [
      "Правильность на обучающем наборе: 0.9730\n",
      "Правильность на тестовом наборе: 0.9006\n"
     ]
    }
   ],
   "source": [
    "GradBoostR = GradientBoostingRegressor(learning_rate=0.1, n_estimators=300, max_depth=2)\n",
    "GradBoostR.fit(X_train, y_train)\n",
    "\n",
    "print('Правильность на обучающем наборе: {:.4f}'.format(GradBoostR.score(X_train, y_train)))\n",
    "print('Правильность на тестовом наборе: {:.4f}'.format(GradBoostR.score(X_val, y_val)))"
   ]
  },
  {
   "cell_type": "code",
   "execution_count": 82,
   "id": "0f929a76",
   "metadata": {},
   "outputs": [],
   "source": [
    "# 0.1,300,2\n",
    "GradBoostR_score1 = rmse_cv(GradBoostR).mean()"
   ]
  },
  {
   "cell_type": "code",
   "execution_count": 83,
   "id": "42998a38",
   "metadata": {},
   "outputs": [
    {
     "data": {
      "text/plain": [
       "25444.57904068404"
      ]
     },
     "execution_count": 83,
     "metadata": {},
     "output_type": "execute_result"
    }
   ],
   "source": [
    "GradBoostR_score1 "
   ]
  },
  {
   "cell_type": "code",
   "execution_count": 337,
   "id": "f5e75106",
   "metadata": {},
   "outputs": [],
   "source": [
    "ids = df_test['Id']\n",
    "predictions = GradBoostR.predict(df_test.drop('Id', axis=1))\n",
    "\n",
    "#set the output as a dataframe and convert to csv file named submission.csv\n",
    "output = pd.DataFrame({ 'Id' : ids, 'SalePrice': predictions })\n",
    "output.to_csv('GradBoostR0.1,300,2_0.9000_25548.6.csv', index=False)"
   ]
  },
  {
   "cell_type": "markdown",
   "id": "85c81e04",
   "metadata": {},
   "source": [
    "### Score: 0.13820"
   ]
  },
  {
   "cell_type": "code",
   "execution_count": 84,
   "id": "d9d93faa",
   "metadata": {},
   "outputs": [
    {
     "name": "stdout",
     "output_type": "stream",
     "text": [
      "Правильность на обучающем наборе: 0.9900\n",
      "Правильность на тестовом наборе: 0.8954\n"
     ]
    }
   ],
   "source": [
    "GradBoostR = GradientBoostingRegressor(learning_rate=0.1, n_estimators=300, max_depth=3)\n",
    "GradBoostR.fit(X_train, y_train)\n",
    "\n",
    "print('Правильность на обучающем наборе: {:.4f}'.format(GradBoostR.score(X_train, y_train)))\n",
    "print('Правильность на тестовом наборе: {:.4f}'.format(GradBoostR.score(X_val, y_val)))"
   ]
  },
  {
   "cell_type": "code",
   "execution_count": 85,
   "id": "e5d9ef51",
   "metadata": {},
   "outputs": [],
   "source": [
    "# 0.1,300,3\n",
    "GradBoostR_score2 = rmse_cv(GradBoostR).mean()"
   ]
  },
  {
   "cell_type": "code",
   "execution_count": 86,
   "id": "f17cc96d",
   "metadata": {},
   "outputs": [
    {
     "data": {
      "text/plain": [
       "25559.619986920723"
      ]
     },
     "execution_count": 86,
     "metadata": {},
     "output_type": "execute_result"
    }
   ],
   "source": [
    "GradBoostR_score2"
   ]
  },
  {
   "cell_type": "code",
   "execution_count": 333,
   "id": "c80bc8b8",
   "metadata": {},
   "outputs": [],
   "source": [
    "ids = df_test['Id']\n",
    "predictions = GradBoostR.predict(df_test.drop('Id', axis=1))\n",
    "\n",
    "#set the output as a dataframe and convert to csv file named submission.csv\n",
    "output = pd.DataFrame({ 'Id' : ids, 'SalePrice': predictions })\n",
    "output.to_csv('GradBoostR0.1,300,3_0.8945_26057.5.csv', index=False)"
   ]
  },
  {
   "cell_type": "markdown",
   "id": "1cae13bc",
   "metadata": {},
   "source": [
    "### Score: 0.15842"
   ]
  },
  {
   "cell_type": "code",
   "execution_count": 87,
   "id": "dc870096",
   "metadata": {},
   "outputs": [
    {
     "name": "stdout",
     "output_type": "stream",
     "text": [
      "Правильность на обучающем наборе: 0.9956\n",
      "Правильность на тестовом наборе: 0.8986\n"
     ]
    }
   ],
   "source": [
    "GradBoostR = GradientBoostingRegressor(learning_rate=0.5, n_estimators=300, max_depth=2)\n",
    "GradBoostR.fit(X_train, y_train)\n",
    "\n",
    "print('Правильность на обучающем наборе: {:.4f}'.format(GradBoostR.score(X_train, y_train)))\n",
    "print('Правильность на тестовом наборе: {:.4f}'.format(GradBoostR.score(X_val, y_val)))"
   ]
  },
  {
   "cell_type": "code",
   "execution_count": 88,
   "id": "893b85b4",
   "metadata": {},
   "outputs": [],
   "source": [
    "# 0.5,300,2\n",
    "GradBoostR_score3 = rmse_cv(GradBoostR).mean()"
   ]
  },
  {
   "cell_type": "code",
   "execution_count": 89,
   "id": "c1a0b44a",
   "metadata": {},
   "outputs": [
    {
     "data": {
      "text/plain": [
       "27311.408154936835"
      ]
     },
     "execution_count": 89,
     "metadata": {},
     "output_type": "execute_result"
    }
   ],
   "source": [
    "GradBoostR_score3"
   ]
  },
  {
   "cell_type": "code",
   "execution_count": 335,
   "id": "18905b20",
   "metadata": {},
   "outputs": [],
   "source": [
    "ids = df_test['Id']\n",
    "predictions = GradBoostR.predict(df_test.drop('Id', axis=1))\n",
    "\n",
    "#set the output as a dataframe and convert to csv file named submission.csv\n",
    "output = pd.DataFrame({ 'Id' : ids, 'SalePrice': predictions })\n",
    "output.to_csv('GradBoostR0.5,300,2_0.8985_28000.5.csv', index=False)"
   ]
  },
  {
   "cell_type": "markdown",
   "id": "85317e43",
   "metadata": {},
   "source": [
    "### GradientBoostingRegressor & PolynomialFeatures"
   ]
  },
  {
   "cell_type": "markdown",
   "id": "e873343d",
   "metadata": {},
   "source": [
    "#### Score: 0.13368"
   ]
  },
  {
   "cell_type": "code",
   "execution_count": 56,
   "id": "9c877b3d",
   "metadata": {
    "scrolled": true
   },
   "outputs": [
    {
     "name": "stdout",
     "output_type": "stream",
     "text": [
      "Wall time: 28min 10s\n"
     ]
    },
    {
     "data": {
      "text/plain": [
       "GridSearchCV(cv=5,\n",
       "             estimator=Pipeline(steps=[('polynomialfeatures',\n",
       "                                        PolynomialFeatures()),\n",
       "                                       ('gradientboostingregressor',\n",
       "                                        GradientBoostingRegressor(n_estimators=500))]),\n",
       "             n_jobs=-1,\n",
       "             param_grid={'gradientboostingregressor__max_depth': [2],\n",
       "                         'polynomialfeatures__degree': [1, 2]})"
      ]
     },
     "execution_count": 56,
     "metadata": {},
     "output_type": "execute_result"
    }
   ],
   "source": [
    "%%time\n",
    "from sklearn.preprocessing import PolynomialFeatures\n",
    "pipe = make_pipeline(PolynomialFeatures(), GradientBoostingRegressor(n_estimators=500))\n",
    "\n",
    "param_grid = {'gradientboostingregressor__max_depth': [2], \n",
    "              'polynomialfeatures__degree': [1, 2]}\n",
    "\n",
    "grid = GridSearchCV(pipe, param_grid=param_grid, cv=5, n_jobs=-1)\n",
    "grid.fit(X_train, y_train);"
   ]
  },
  {
   "cell_type": "code",
   "execution_count": 57,
   "id": "5d11840c",
   "metadata": {},
   "outputs": [
    {
     "name": "stdout",
     "output_type": "stream",
     "text": [
      "Правильность на тестовом наборе: 0.8576\n",
      "Наилучшие параметры: {'gradientboostingregressor__max_depth': 2, 'polynomialfeatures__degree': 2}\n",
      "Наил значение правильности перекр проверки: 0.8742\n"
     ]
    }
   ],
   "source": [
    "print(\"Правильность на тестовом наборе: {:.4f}\".format(grid.score(X_val, y_val)))\n",
    "print(\"Наилучшие параметры: {}\".format(grid.best_params_))\n",
    "print(\"Наил значение правильности перекр проверки: {:.4f}\".format(grid.best_score_))"
   ]
  },
  {
   "cell_type": "code",
   "execution_count": 60,
   "id": "7f79983b",
   "metadata": {},
   "outputs": [],
   "source": [
    "ids = df_test['Id']\n",
    "predictions = grid.predict(df_test.drop('Id', axis=1))\n",
    "\n",
    "#set the output as a dataframe and convert to csv file named submission.csv\n",
    "output = pd.DataFrame({ 'Id' : ids, 'SalePrice': predictions })\n",
    "output.to_csv('GBR,PF_0.8742.csv', index=False)"
   ]
  },
  {
   "cell_type": "markdown",
   "id": "f8e0ddb4",
   "metadata": {},
   "source": [
    "## XGBRegressor"
   ]
  },
  {
   "cell_type": "markdown",
   "id": "6b122b00",
   "metadata": {},
   "source": [
    "### Score: 0.15356"
   ]
  },
  {
   "cell_type": "code",
   "execution_count": 121,
   "id": "136c29c1",
   "metadata": {},
   "outputs": [
    {
     "name": "stdout",
     "output_type": "stream",
     "text": [
      "Правильность на обучающем наборе: 0.9997\n",
      "Правильность на тестовом наборе: 0.8401\n"
     ]
    }
   ],
   "source": [
    "XGBR = XGBRegressor()\n",
    "XGBR.fit(X_train, y_train)\n",
    "\n",
    "print('Правильность на обучающем наборе: {:.4f}'.format(XGBR.score(X_train, y_train)))\n",
    "print('Правильность на тестовом наборе: {:.4f}'.format(XGBR.score(X_val, y_val)))"
   ]
  },
  {
   "cell_type": "code",
   "execution_count": 328,
   "id": "40cf4aa6",
   "metadata": {},
   "outputs": [
    {
     "data": {
      "text/plain": [
       "28760.12025831495"
      ]
     },
     "execution_count": 328,
     "metadata": {},
     "output_type": "execute_result"
    }
   ],
   "source": [
    "rmse_cv(XGBR).mean()"
   ]
  },
  {
   "cell_type": "code",
   "execution_count": 341,
   "id": "e46664c2",
   "metadata": {},
   "outputs": [],
   "source": [
    "ids = df_test['Id']\n",
    "predictions = XGBR.predict(df_test.drop('Id', axis=1))\n",
    "\n",
    "#set the output as a dataframe and convert to csv file named submission.csv\n",
    "output = pd.DataFrame({ 'Id' : ids, 'SalePrice': predictions })\n",
    "output.to_csv('XGBR_0.8401_28760.1.csv', index=False)"
   ]
  },
  {
   "cell_type": "markdown",
   "id": "65ed0c5b",
   "metadata": {},
   "source": [
    "### Score: 0.14430"
   ]
  },
  {
   "cell_type": "code",
   "execution_count": 91,
   "id": "beb2d8cd",
   "metadata": {},
   "outputs": [
    {
     "name": "stdout",
     "output_type": "stream",
     "text": [
      "Правильность на обучающем наборе: 0.9946\n",
      "Правильность на тестовом наборе: 0.9169\n"
     ]
    }
   ],
   "source": [
    "XGBR = XGBRegressor(learning_rate = 0.15, n_estimators = 1000, max_depth = 2, n_jobs=-1)\n",
    "XGBR.fit(X_train, y_train)\n",
    "\n",
    "print('Правильность на обучающем наборе: {:.4f}'.format(XGBR.score(X_train, y_train)))\n",
    "print('Правильность на тестовом наборе: {:.4f}'.format(XGBR.score(X_val, y_val)))"
   ]
  },
  {
   "cell_type": "code",
   "execution_count": 325,
   "id": "ccf90d42",
   "metadata": {},
   "outputs": [
    {
     "data": {
      "text/plain": [
       "27191.273131205973"
      ]
     },
     "execution_count": 325,
     "metadata": {},
     "output_type": "execute_result"
    }
   ],
   "source": [
    "# 0.15,1000,2\n",
    "rmse_cv(XGBR).mean()"
   ]
  },
  {
   "cell_type": "code",
   "execution_count": 339,
   "id": "c5b128b0",
   "metadata": {},
   "outputs": [],
   "source": [
    "ids = df_test['Id']\n",
    "predictions = XGBR.predict(df_test.drop('Id', axis=1))\n",
    "\n",
    "#set the output as a dataframe and convert to csv file named submission.csv\n",
    "output = pd.DataFrame({ 'Id' : ids, 'SalePrice': predictions })\n",
    "output.to_csv('XGBR0.15,1000,2_0.9169_27191.3.csv', index=False)"
   ]
  },
  {
   "cell_type": "markdown",
   "id": "3a315b82",
   "metadata": {},
   "source": [
    "### Score: 0.14131"
   ]
  },
  {
   "cell_type": "code",
   "execution_count": 92,
   "id": "ae03fec6",
   "metadata": {
    "scrolled": true
   },
   "outputs": [
    {
     "name": "stdout",
     "output_type": "stream",
     "text": [
      "Правильность на обучающем наборе: 0.9935\n",
      "Правильность на тестовом наборе: 0.9172\n"
     ]
    }
   ],
   "source": [
    "XGBR = XGBRegressor(learning_rate = 0.14, n_estimators = 1000, max_depth = 2, n_jobs=-1)\n",
    "XGBR.fit(X_train, y_train)\n",
    "\n",
    "print('Правильность на обучающем наборе: {:.4f}'.format(XGBR.score(X_train, y_train)))\n",
    "print('Правильность на тестовом наборе: {:.4f}'.format(XGBR.score(X_val, y_val)))"
   ]
  },
  {
   "cell_type": "code",
   "execution_count": 93,
   "id": "faa9830f",
   "metadata": {},
   "outputs": [
    {
     "data": {
      "text/plain": [
       "27328.7253873993"
      ]
     },
     "execution_count": 93,
     "metadata": {},
     "output_type": "execute_result"
    }
   ],
   "source": [
    "# 0.14,1000,2\n",
    "rmse_cv(XGBR).mean()"
   ]
  },
  {
   "cell_type": "code",
   "execution_count": 134,
   "id": "c4513c70",
   "metadata": {},
   "outputs": [],
   "source": [
    "ids = df_test['Id']\n",
    "predictions = XGBR.predict(df_test.drop('Id', axis=1))\n",
    "\n",
    "#set the output as a dataframe and convert to csv file named submission.csv\n",
    "output = pd.DataFrame({ 'Id' : ids, 'SalePrice': predictions })\n",
    "output.to_csv('XGBR0.14,1000,2_0.9172.csv', index=False)"
   ]
  },
  {
   "cell_type": "markdown",
   "id": "4b2de962",
   "metadata": {},
   "source": [
    "### XGradientBoostingRegressor & PolynomialFeatures"
   ]
  },
  {
   "cell_type": "markdown",
   "id": "f1559495",
   "metadata": {},
   "source": [
    "#### Score: 0.13829"
   ]
  },
  {
   "cell_type": "code",
   "execution_count": 95,
   "id": "61e42e63",
   "metadata": {},
   "outputs": [
    {
     "name": "stdout",
     "output_type": "stream",
     "text": [
      "Правильность на обучающем наборе: 0.9864\n",
      "Правильность на тестовом наборе: 0.8707\n"
     ]
    }
   ],
   "source": [
    "XGBR = XGBRegressor(learning_rate=0.1, n_estimators=300, max_depth=3)\n",
    "XGBR.fit(X_train, y_train)\n",
    "\n",
    "print('Правильность на обучающем наборе: {:.4f}'.format(XGBR.score(X_train, y_train)))\n",
    "print('Правильность на тестовом наборе: {:.4f}'.format(XGBR.score(X_val, y_val)))"
   ]
  },
  {
   "cell_type": "code",
   "execution_count": 96,
   "id": "713feb7e",
   "metadata": {},
   "outputs": [],
   "source": [
    "ids = df_test['Id']\n",
    "predictions = XGBR.predict(df_test.drop('Id', axis=1))\n",
    "\n",
    "#set the output as a dataframe and convert to csv file named submission.csv\n",
    "output = pd.DataFrame({ 'Id' : ids, 'SalePrice': predictions })\n",
    "output.to_csv('XGBR,PF0.1,300,3_0.8707.csv', index=False)"
   ]
  },
  {
   "cell_type": "markdown",
   "id": "4debe1e4",
   "metadata": {},
   "source": [
    "#### Score: 0.13919"
   ]
  },
  {
   "cell_type": "code",
   "execution_count": 96,
   "id": "1e10a7de",
   "metadata": {},
   "outputs": [
    {
     "name": "stderr",
     "output_type": "stream",
     "text": [
      "D:\\ANACONDA\\lib\\site-packages\\sklearn\\model_selection\\_search.py:922: UserWarning: One or more of the test scores are non-finite: [-3.42914778 -3.41067768  0.66152577  0.69783077  0.85485694  0.86594723\n",
      "  0.8460915   0.83799933  0.77747523  0.76517902         nan         nan\n",
      "         nan         nan]\n",
      "  warnings.warn(\n"
     ]
    },
    {
     "name": "stdout",
     "output_type": "stream",
     "text": [
      "Wall time: 20.1 s\n"
     ]
    },
    {
     "data": {
      "text/plain": [
       "GridSearchCV(cv=5,\n",
       "             estimator=Pipeline(steps=[('polynomialfeatures',\n",
       "                                        PolynomialFeatures()),\n",
       "                                       ('xgbregressor',\n",
       "                                        XGBRegressor(base_score=None,\n",
       "                                                     booster=None,\n",
       "                                                     callbacks=None,\n",
       "                                                     colsample_bylevel=None,\n",
       "                                                     colsample_bynode=None,\n",
       "                                                     colsample_bytree=None,\n",
       "                                                     early_stopping_rounds=None,\n",
       "                                                     enable_categorical=False,\n",
       "                                                     eval_metric=None,\n",
       "                                                     gamma=None, gpu_id=None,\n",
       "                                                     grow_policy=None,\n",
       "                                                     importance_ty...\n",
       "                                                     max_depth=None,\n",
       "                                                     max_leaves=None,\n",
       "                                                     min_child_weight=None,\n",
       "                                                     missing=nan,\n",
       "                                                     monotone_constraints=None,\n",
       "                                                     n_estimators=200,\n",
       "                                                     n_jobs=-1,\n",
       "                                                     num_parallel_tree=None,\n",
       "                                                     predictor=None,\n",
       "                                                     random_state=None,\n",
       "                                                     reg_alpha=None,\n",
       "                                                     reg_lambda=None, ...))]),\n",
       "             n_jobs=-1,\n",
       "             param_grid={'polynomialfeatures__degree': [1],\n",
       "                         'xgbregressor__learning_rate': [0.001, 0.01, 0.1, 0.5,\n",
       "                                                         1, 10, 100],\n",
       "                         'xgbregressor__max_depth': [2, 3]})"
      ]
     },
     "execution_count": 96,
     "metadata": {},
     "output_type": "execute_result"
    }
   ],
   "source": [
    "%%time\n",
    "from sklearn.preprocessing import PolynomialFeatures\n",
    "pipe = make_pipeline(PolynomialFeatures(), XGBRegressor(n_estimators=200, n_jobs=-1))\n",
    "\n",
    "param_grid = {'xgbregressor__max_depth': [i for i in range(2, 4)],\n",
    "              'polynomialfeatures__degree': [1],\n",
    "              'xgbregressor__learning_rate': [0.001,0.01,0.1,0.5,1,10,100]}\n",
    "\n",
    "grid = GridSearchCV(pipe, param_grid=param_grid, cv=5, n_jobs=-1)\n",
    "grid.fit(X_train, y_train);"
   ]
  },
  {
   "cell_type": "code",
   "execution_count": 97,
   "id": "d5134bda",
   "metadata": {},
   "outputs": [
    {
     "name": "stdout",
     "output_type": "stream",
     "text": [
      "Правильность на тестовом наборе: 0.8698\n",
      "Наилучшие параметры: {'polynomialfeatures__degree': 1, 'xgbregressor__learning_rate': 0.1, 'xgbregressor__max_depth': 3}\n",
      "Наил значение правильности перекр проверки: 0.8659\n"
     ]
    }
   ],
   "source": [
    "print(\"Правильность на тестовом наборе: {:.4f}\".format(grid.score(X_val, y_val)))\n",
    "print(\"Наилучшие параметры: {}\".format(grid.best_params_))\n",
    "print(\"Наил значение правильности перекр проверки: {:.4f}\".format(grid.best_score_))"
   ]
  },
  {
   "cell_type": "code",
   "execution_count": 85,
   "id": "b49f4a71",
   "metadata": {},
   "outputs": [
    {
     "data": {
      "image/png": "[encoded data removed]",
      "text/plain": [
       "<Figure size 1512x360 with 2 Axes>"
      ]
     },
     "metadata": {
      "needs_background": "light"
     },
     "output_type": "display_data"
    }
   ],
   "source": [
    "plt.figure(figsize=(21, 5))\n",
    "sns.heatmap(grid.cv_results_['mean_test_score'].reshape(7, 2).T, annot=True, \n",
    "            xticklabels=param_grid['xgbregressor__learning_rate'], yticklabels=[i for i in range(2, 4)], linewidths=0.5, fmt=\".3f\");"
   ]
  },
  {
   "cell_type": "code",
   "execution_count": 98,
   "id": "8054be02",
   "metadata": {},
   "outputs": [],
   "source": [
    "ids = df_test['Id']\n",
    "predictions = grid.predict(df_test.drop('Id', axis=1))\n",
    "\n",
    "#set the output as a dataframe and convert to csv file named submission.csv\n",
    "output = pd.DataFrame({ 'Id' : ids, 'SalePrice': predictions })\n",
    "output.to_csv('XGBR,PF_0.8659.csv', index=False)"
   ]
  },
  {
   "cell_type": "markdown",
   "id": "8c11b0e7",
   "metadata": {},
   "source": [
    "#### Score 0.13276"
   ]
  },
  {
   "cell_type": "code",
   "execution_count": 86,
   "id": "1c79495e",
   "metadata": {},
   "outputs": [
    {
     "name": "stderr",
     "output_type": "stream",
     "text": [
      "D:\\ANACONDA\\lib\\site-packages\\sklearn\\model_selection\\_search.py:922: UserWarning: One or more of the test scores are non-finite: [-3.41303538 -3.39202232  0.69496785  0.71873599  0.8662746   0.87019494\n",
      "  0.83933917  0.83183853  0.72925667  0.66757011         nan         nan\n",
      "         nan         nan]\n",
      "  warnings.warn(\n"
     ]
    },
    {
     "name": "stdout",
     "output_type": "stream",
     "text": [
      "Wall time: 24min 17s\n"
     ]
    },
    {
     "data": {
      "text/plain": [
       "GridSearchCV(cv=5,\n",
       "             estimator=Pipeline(steps=[('polynomialfeatures',\n",
       "                                        PolynomialFeatures()),\n",
       "                                       ('xgbregressor',\n",
       "                                        XGBRegressor(base_score=None,\n",
       "                                                     booster=None,\n",
       "                                                     callbacks=None,\n",
       "                                                     colsample_bylevel=None,\n",
       "                                                     colsample_bynode=None,\n",
       "                                                     colsample_bytree=None,\n",
       "                                                     early_stopping_rounds=None,\n",
       "                                                     enable_categorical=False,\n",
       "                                                     eval_metric=None,\n",
       "                                                     gamma=None, gpu_id=None,\n",
       "                                                     grow_policy=None,\n",
       "                                                     importance_ty...\n",
       "                                                     max_depth=None,\n",
       "                                                     max_leaves=None,\n",
       "                                                     min_child_weight=None,\n",
       "                                                     missing=nan,\n",
       "                                                     monotone_constraints=None,\n",
       "                                                     n_estimators=200,\n",
       "                                                     n_jobs=-1,\n",
       "                                                     num_parallel_tree=None,\n",
       "                                                     predictor=None,\n",
       "                                                     random_state=None,\n",
       "                                                     reg_alpha=None,\n",
       "                                                     reg_lambda=None, ...))]),\n",
       "             n_jobs=-1,\n",
       "             param_grid={'polynomialfeatures__degree': [2],\n",
       "                         'xgbregressor__learning_rate': [0.001, 0.01, 0.1, 0.5,\n",
       "                                                         1, 10, 100],\n",
       "                         'xgbregressor__max_depth': [2, 3]})"
      ]
     },
     "execution_count": 86,
     "metadata": {},
     "output_type": "execute_result"
    }
   ],
   "source": [
    "%%time\n",
    "from sklearn.preprocessing import PolynomialFeatures\n",
    "pipe = make_pipeline(PolynomialFeatures(), XGBRegressor(n_estimators=200, n_jobs=-1))\n",
    "\n",
    "param_grid = {'xgbregressor__max_depth': [i for i in range(2, 4)],\n",
    "              'polynomialfeatures__degree': [2],\n",
    "              'xgbregressor__learning_rate': [0.001,0.01,0.1,0.5,1,10,100]}\n",
    "\n",
    "grid = GridSearchCV(pipe, param_grid=param_grid, cv=5, n_jobs=-1)\n",
    "grid.fit(X_train, y_train);"
   ]
  },
  {
   "cell_type": "code",
   "execution_count": 87,
   "id": "86719a92",
   "metadata": {},
   "outputs": [
    {
     "name": "stdout",
     "output_type": "stream",
     "text": [
      "Правильность на тестовом наборе: 0.8566\n",
      "Наилучшие параметры: {'polynomialfeatures__degree': 2, 'xgbregressor__learning_rate': 0.1, 'xgbregressor__max_depth': 3}\n",
      "Наил значение правильности перекр проверки: 0.8702\n"
     ]
    }
   ],
   "source": [
    "print(\"Правильность на тестовом наборе: {:.4f}\".format(grid.score(X_val, y_val)))\n",
    "print(\"Наилучшие параметры: {}\".format(grid.best_params_))\n",
    "print(\"Наил значение правильности перекр проверки: {:.4f}\".format(grid.best_score_))"
   ]
  },
  {
   "cell_type": "code",
   "execution_count": 88,
   "id": "214c3861",
   "metadata": {},
   "outputs": [
    {
     "data": {
      "image/png": "[encoded data removed]",
      "text/plain": [
       "<Figure size 1512x360 with 2 Axes>"
      ]
     },
     "metadata": {
      "needs_background": "light"
     },
     "output_type": "display_data"
    }
   ],
   "source": [
    "plt.figure(figsize=(21, 5))\n",
    "sns.heatmap(grid.cv_results_['mean_test_score'].reshape(7, 2).T, annot=True, \n",
    "            xticklabels=param_grid['xgbregressor__learning_rate'], yticklabels=[i for i in range(2, 4)], linewidths=0.5, fmt=\".3f\");"
   ]
  },
  {
   "cell_type": "code",
   "execution_count": 95,
   "id": "ee5ed7b5",
   "metadata": {},
   "outputs": [],
   "source": [
    "ids = df_test['Id']\n",
    "predictions = grid.predict(df_test.drop('Id', axis=1))\n",
    "\n",
    "#set the output as a dataframe and convert to csv file named submission.csv\n",
    "output = pd.DataFrame({ 'Id' : ids, 'SalePrice': predictions })\n",
    "output.to_csv('XGBR,PF_0.8702.csv', index=False)"
   ]
  },
  {
   "cell_type": "markdown",
   "id": "94f6fd43",
   "metadata": {},
   "source": [
    "#### Score: 0.13610"
   ]
  },
  {
   "cell_type": "code",
   "execution_count": 99,
   "id": "a744fe8a",
   "metadata": {},
   "outputs": [
    {
     "name": "stdout",
     "output_type": "stream",
     "text": [
      "Wall time: 8min 36s\n"
     ]
    },
    {
     "data": {
      "text/plain": [
       "GridSearchCV(cv=5,\n",
       "             estimator=Pipeline(steps=[('polynomialfeatures',\n",
       "                                        PolynomialFeatures()),\n",
       "                                       ('xgbregressor',\n",
       "                                        XGBRegressor(base_score=None,\n",
       "                                                     booster=None,\n",
       "                                                     callbacks=None,\n",
       "                                                     colsample_bylevel=None,\n",
       "                                                     colsample_bynode=None,\n",
       "                                                     colsample_bytree=None,\n",
       "                                                     early_stopping_rounds=None,\n",
       "                                                     enable_categorical=False,\n",
       "                                                     eval_metric=None,\n",
       "                                                     gamma=None, gpu_id=None,\n",
       "                                                     grow_policy=None,\n",
       "                                                     importance_ty...\n",
       "                                                     max_delta_step=None,\n",
       "                                                     max_depth=None,\n",
       "                                                     max_leaves=None,\n",
       "                                                     min_child_weight=None,\n",
       "                                                     missing=nan,\n",
       "                                                     monotone_constraints=None,\n",
       "                                                     n_estimators=200,\n",
       "                                                     n_jobs=-1,\n",
       "                                                     num_parallel_tree=None,\n",
       "                                                     predictor=None,\n",
       "                                                     random_state=None,\n",
       "                                                     reg_alpha=None,\n",
       "                                                     reg_lambda=None, ...))]),\n",
       "             n_jobs=-1,\n",
       "             param_grid={'polynomialfeatures__degree': [2],\n",
       "                         'xgbregressor__learning_rate': [0.2, 0.3, 0.4],\n",
       "                         'xgbregressor__max_depth': [3]})"
      ]
     },
     "execution_count": 99,
     "metadata": {},
     "output_type": "execute_result"
    }
   ],
   "source": [
    "%%time\n",
    "from sklearn.preprocessing import PolynomialFeatures\n",
    "pipe = make_pipeline(PolynomialFeatures(), XGBRegressor(n_estimators=200, n_jobs=-1))\n",
    "\n",
    "param_grid = {'xgbregressor__max_depth': [3],\n",
    "              'polynomialfeatures__degree': [2],\n",
    "              'xgbregressor__learning_rate': [0.2,0.3,0.4]}\n",
    "\n",
    "grid = GridSearchCV(pipe, param_grid=param_grid, cv=5, n_jobs=-1)\n",
    "grid.fit(X_train, y_train);"
   ]
  },
  {
   "cell_type": "code",
   "execution_count": 100,
   "id": "dc76f56e",
   "metadata": {},
   "outputs": [
    {
     "name": "stdout",
     "output_type": "stream",
     "text": [
      "Правильность на тестовом наборе: 0.8630\n",
      "Наилучшие параметры: {'polynomialfeatures__degree': 2, 'xgbregressor__learning_rate': 0.3, 'xgbregressor__max_depth': 3}\n",
      "Наил значение правильности перекр проверки: 0.8629\n"
     ]
    }
   ],
   "source": [
    "print(\"Правильность на тестовом наборе: {:.4f}\".format(grid.score(X_val, y_val)))\n",
    "print(\"Наилучшие параметры: {}\".format(grid.best_params_))\n",
    "print(\"Наил значение правильности перекр проверки: {:.4f}\".format(grid.best_score_))"
   ]
  },
  {
   "cell_type": "code",
   "execution_count": 101,
   "id": "2cce2d92",
   "metadata": {},
   "outputs": [
    {
     "data": {
      "image/png": "[encoded data removed]",
      "text/plain": [
       "<Figure size 432x360 with 2 Axes>"
      ]
     },
     "metadata": {
      "needs_background": "light"
     },
     "output_type": "display_data"
    }
   ],
   "source": [
    "plt.figure(figsize=(6, 5))\n",
    "sns.heatmap(grid.cv_results_['mean_test_score'].reshape(3, 1).T, annot=True, \n",
    "            xticklabels=param_grid['xgbregressor__learning_rate'], yticklabels=[i for i in range(3, 4)], linewidths=0.5, fmt=\".3f\");"
   ]
  },
  {
   "cell_type": "code",
   "execution_count": 102,
   "id": "cd0de0d7",
   "metadata": {},
   "outputs": [],
   "source": [
    "ids = df_test['Id']\n",
    "predictions = grid.predict(df_test.drop('Id', axis=1))\n",
    "\n",
    "#set the output as a dataframe and convert to csv file named submission.csv\n",
    "output = pd.DataFrame({ 'Id' : ids, 'SalePrice': predictions })\n",
    "output.to_csv('XGBR,PF_0.8629.csv', index=False)"
   ]
  },
  {
   "cell_type": "markdown",
   "id": "05c02bf8",
   "metadata": {},
   "source": [
    "#### Score: 0.13266"
   ]
  },
  {
   "cell_type": "code",
   "execution_count": 103,
   "id": "467890e1",
   "metadata": {
    "scrolled": true
   },
   "outputs": [
    {
     "name": "stdout",
     "output_type": "stream",
     "text": [
      "Wall time: 25min 22s\n"
     ]
    },
    {
     "data": {
      "text/plain": [
       "GridSearchCV(cv=5,\n",
       "             estimator=Pipeline(steps=[('polynomialfeatures',\n",
       "                                        PolynomialFeatures()),\n",
       "                                       ('xgbregressor',\n",
       "                                        XGBRegressor(base_score=None,\n",
       "                                                     booster=None,\n",
       "                                                     callbacks=None,\n",
       "                                                     colsample_bylevel=None,\n",
       "                                                     colsample_bynode=None,\n",
       "                                                     colsample_bytree=None,\n",
       "                                                     early_stopping_rounds=None,\n",
       "                                                     enable_categorical=False,\n",
       "                                                     eval_metric=None,\n",
       "                                                     gamma=None, gpu_id=None,\n",
       "                                                     grow_policy=None,\n",
       "                                                     importance_ty...\n",
       "                                                     min_child_weight=None,\n",
       "                                                     missing=nan,\n",
       "                                                     monotone_constraints=None,\n",
       "                                                     n_estimators=200,\n",
       "                                                     n_jobs=-1,\n",
       "                                                     num_parallel_tree=None,\n",
       "                                                     predictor=None,\n",
       "                                                     random_state=None,\n",
       "                                                     reg_alpha=None,\n",
       "                                                     reg_lambda=None, ...))]),\n",
       "             n_jobs=-1,\n",
       "             param_grid={'polynomialfeatures__degree': [2],\n",
       "                         'xgbregressor__learning_rate': [0.05, 0.06, 0.07, 0.08,\n",
       "                                                         0.09, 0.1, 1.01, 1.02,\n",
       "                                                         1.03, 1.04, 1.05],\n",
       "                         'xgbregressor__max_depth': [3]})"
      ]
     },
     "execution_count": 103,
     "metadata": {},
     "output_type": "execute_result"
    }
   ],
   "source": [
    "%%time\n",
    "from sklearn.preprocessing import PolynomialFeatures\n",
    "pipe = make_pipeline(PolynomialFeatures(), XGBRegressor(n_estimators=200, n_jobs=-1))\n",
    "\n",
    "param_grid = {'xgbregressor__max_depth': [3],\n",
    "              'polynomialfeatures__degree': [2],\n",
    "              'xgbregressor__learning_rate': [0.05,0.06,0.07,0.08,0.09,0.1,1.01,1.02,1.03,1.04,1.05]}\n",
    "grid = GridSearchCV(pipe, param_grid=param_grid, cv=5, n_jobs=-1)\n",
    "grid.fit(X_train, y_train);"
   ]
  },
  {
   "cell_type": "code",
   "execution_count": 104,
   "id": "6dae0803",
   "metadata": {},
   "outputs": [
    {
     "name": "stdout",
     "output_type": "stream",
     "text": [
      "Правильность на тестовом наборе: 0.8569\n",
      "Наилучшие параметры: {'polynomialfeatures__degree': 2, 'xgbregressor__learning_rate': 0.07, 'xgbregressor__max_depth': 3}\n",
      "Наил значение правильности перекр проверки: 0.8734\n"
     ]
    }
   ],
   "source": [
    "print(\"Правильность на тестовом наборе: {:.4f}\".format(grid.score(X_val, y_val)))\n",
    "print(\"Наилучшие параметры: {}\".format(grid.best_params_))\n",
    "print(\"Наил значение правильности перекр проверки: {:.4f}\".format(grid.best_score_))"
   ]
  },
  {
   "cell_type": "code",
   "execution_count": 105,
   "id": "18aed536",
   "metadata": {},
   "outputs": [
    {
     "data": {
      "image/png": "[encoded data removed]",
      "text/plain": [
       "<Figure size 1584x360 with 2 Axes>"
      ]
     },
     "metadata": {
      "needs_background": "light"
     },
     "output_type": "display_data"
    }
   ],
   "source": [
    "plt.figure(figsize=(22, 5))\n",
    "sns.heatmap(grid.cv_results_['mean_test_score'].reshape(11, 1).T, annot=True, \n",
    "            xticklabels=param_grid['xgbregressor__learning_rate'], yticklabels=[i for i in range(3, 4)], linewidths=0.5, fmt=\".3f\");"
   ]
  },
  {
   "cell_type": "code",
   "execution_count": 106,
   "id": "ed13b015",
   "metadata": {},
   "outputs": [],
   "source": [
    "ids = df_test['Id']\n",
    "predictions = grid.predict(df_test.drop('Id', axis=1))\n",
    "\n",
    "#set the output as a dataframe and convert to csv file named submission.csv\n",
    "output = pd.DataFrame({ 'Id' : ids, 'SalePrice': predictions })\n",
    "output.to_csv('XGBR,PF_0.8734.csv', index=False)"
   ]
  },
  {
   "cell_type": "markdown",
   "id": "ebc2d585",
   "metadata": {},
   "source": [
    "### XGradientBoostingRegressor & PolynomialFeatures & StandartScaler"
   ]
  },
  {
   "cell_type": "markdown",
   "id": "fc9ac71a",
   "metadata": {},
   "source": [
    "#### Score: 0.13946"
   ]
  },
  {
   "cell_type": "code",
   "execution_count": 108,
   "id": "a9fd4a17",
   "metadata": {
    "scrolled": true
   },
   "outputs": [
    {
     "name": "stdout",
     "output_type": "stream",
     "text": [
      "Wall time: 10min 59s\n"
     ]
    },
    {
     "data": {
      "text/plain": [
       "GridSearchCV(cv=5,\n",
       "             estimator=Pipeline(steps=[('standardscaler', StandardScaler()),\n",
       "                                       ('polynomialfeatures',\n",
       "                                        PolynomialFeatures()),\n",
       "                                       ('xgbregressor',\n",
       "                                        XGBRegressor(base_score=None,\n",
       "                                                     booster=None,\n",
       "                                                     callbacks=None,\n",
       "                                                     colsample_bylevel=None,\n",
       "                                                     colsample_bynode=None,\n",
       "                                                     colsample_bytree=None,\n",
       "                                                     early_stopping_rounds=None,\n",
       "                                                     enable_categorical=False,\n",
       "                                                     eval_metric=None,\n",
       "                                                     gamma=None, gpu_id...\n",
       "                                                     max_depth=None,\n",
       "                                                     max_leaves=None,\n",
       "                                                     min_child_weight=None,\n",
       "                                                     missing=nan,\n",
       "                                                     monotone_constraints=None,\n",
       "                                                     n_estimators=200,\n",
       "                                                     n_jobs=-1,\n",
       "                                                     num_parallel_tree=None,\n",
       "                                                     predictor=None,\n",
       "                                                     random_state=None,\n",
       "                                                     reg_alpha=None,\n",
       "                                                     reg_lambda=None, ...))]),\n",
       "             n_jobs=-1,\n",
       "             param_grid={'polynomialfeatures__degree': [2],\n",
       "                         'xgbregressor__learning_rate': [0.07, 0.08, 0.09, 0.1],\n",
       "                         'xgbregressor__max_depth': [3]})"
      ]
     },
     "execution_count": 108,
     "metadata": {},
     "output_type": "execute_result"
    }
   ],
   "source": [
    "%%time\n",
    "from sklearn.preprocessing import PolynomialFeatures\n",
    "from sklearn.preprocessing import StandardScaler\n",
    "pipe = make_pipeline(StandardScaler(), PolynomialFeatures(), XGBRegressor(n_estimators=200, n_jobs=-1))\n",
    "\n",
    "param_grid = {'xgbregressor__max_depth': [3],\n",
    "              'polynomialfeatures__degree': [2],\n",
    "              'xgbregressor__learning_rate': [0.07,0.08,0.09,0.1]}\n",
    "grid = GridSearchCV(pipe, param_grid=param_grid, cv=5, n_jobs=-1)\n",
    "grid.fit(X_train, y_train);"
   ]
  },
  {
   "cell_type": "code",
   "execution_count": 109,
   "id": "34f7037b",
   "metadata": {},
   "outputs": [
    {
     "name": "stdout",
     "output_type": "stream",
     "text": [
      "Правильность на тестовом наборе: 0.8714\n",
      "Наилучшие параметры: {'polynomialfeatures__degree': 2, 'xgbregressor__learning_rate': 0.1, 'xgbregressor__max_depth': 3}\n",
      "Наил значение правильности перекр проверки: 0.8746\n"
     ]
    }
   ],
   "source": [
    "print(\"Правильность на тестовом наборе: {:.4f}\".format(grid.score(X_val, y_val)))\n",
    "print(\"Наилучшие параметры: {}\".format(grid.best_params_))\n",
    "print(\"Наил значение правильности перекр проверки: {:.4f}\".format(grid.best_score_))"
   ]
  },
  {
   "cell_type": "code",
   "execution_count": 110,
   "id": "40f7ff35",
   "metadata": {},
   "outputs": [
    {
     "data": {
      "image/png": "[encoded data removed]",
      "text/plain": [
       "<Figure size 576x360 with 2 Axes>"
      ]
     },
     "metadata": {
      "needs_background": "light"
     },
     "output_type": "display_data"
    }
   ],
   "source": [
    "plt.figure(figsize=(8, 5))\n",
    "sns.heatmap(grid.cv_results_['mean_test_score'].reshape(4, 1).T, annot=True, \n",
    "            xticklabels=param_grid['xgbregressor__learning_rate'], yticklabels=[i for i in range(3, 4)], linewidths=0.5, fmt=\".3f\");"
   ]
  },
  {
   "cell_type": "code",
   "execution_count": 111,
   "id": "5b9d4694",
   "metadata": {},
   "outputs": [],
   "source": [
    "ids = df_test['Id']\n",
    "predictions = grid.predict(df_test.drop('Id', axis=1))\n",
    "\n",
    "#set the output as a dataframe and convert to csv file named submission.csv\n",
    "output = pd.DataFrame({ 'Id' : ids, 'SalePrice': predictions })\n",
    "output.to_csv('XGBR,PF,SS_0.8746.csv', index=False)"
   ]
  },
  {
   "cell_type": "markdown",
   "id": "fd30992e",
   "metadata": {},
   "source": [
    "### XGradientBoostingRegressor & PolynomialFeatures & MinMaxScaler"
   ]
  },
  {
   "cell_type": "markdown",
   "id": "46a9a8e2",
   "metadata": {},
   "source": [
    "#### Score: 0.13060"
   ]
  },
  {
   "cell_type": "code",
   "execution_count": 97,
   "id": "b6782e81",
   "metadata": {},
   "outputs": [
    {
     "name": "stdout",
     "output_type": "stream",
     "text": [
      "Wall time: 4min 41s\n"
     ]
    },
    {
     "data": {
      "text/plain": [
       "GridSearchCV(cv=5,\n",
       "             estimator=Pipeline(steps=[('minmaxscaler', MinMaxScaler()),\n",
       "                                       ('polynomialfeatures',\n",
       "                                        PolynomialFeatures()),\n",
       "                                       ('xgbregressor',\n",
       "                                        XGBRegressor(base_score=None,\n",
       "                                                     booster=None,\n",
       "                                                     callbacks=None,\n",
       "                                                     colsample_bylevel=None,\n",
       "                                                     colsample_bynode=None,\n",
       "                                                     colsample_bytree=None,\n",
       "                                                     early_stopping_rounds=None,\n",
       "                                                     enable_categorical=False,\n",
       "                                                     eval_metric=None,\n",
       "                                                     gamma=None, gpu_id=Non...\n",
       "                                                     max_depth=None,\n",
       "                                                     max_leaves=None,\n",
       "                                                     min_child_weight=None,\n",
       "                                                     missing=nan,\n",
       "                                                     monotone_constraints=None,\n",
       "                                                     n_estimators=200,\n",
       "                                                     n_jobs=-1,\n",
       "                                                     num_parallel_tree=None,\n",
       "                                                     predictor=None,\n",
       "                                                     random_state=None,\n",
       "                                                     reg_alpha=None,\n",
       "                                                     reg_lambda=None, ...))]),\n",
       "             n_jobs=-1,\n",
       "             param_grid={'polynomialfeatures__degree': [2],\n",
       "                         'xgbregressor__learning_rate': [0.07, 0.08, 0.09, 0.1],\n",
       "                         'xgbregressor__max_depth': [3]})"
      ]
     },
     "execution_count": 97,
     "metadata": {},
     "output_type": "execute_result"
    }
   ],
   "source": [
    "%%time\n",
    "from sklearn.preprocessing import PolynomialFeatures\n",
    "from sklearn.preprocessing import MinMaxScaler\n",
    "pipe = make_pipeline(MinMaxScaler(), PolynomialFeatures(), XGBRegressor(n_estimators=200, n_jobs=-1))\n",
    "\n",
    "param_grid = {'xgbregressor__max_depth': [3],\n",
    "              'polynomialfeatures__degree': [2],\n",
    "              'xgbregressor__learning_rate': [0.07,0.08,0.09,0.1]}\n",
    "grid = GridSearchCV(pipe, param_grid=param_grid, cv=5, n_jobs=-1)\n",
    "grid.fit(X_train, y_train);"
   ]
  },
  {
   "cell_type": "code",
   "execution_count": 98,
   "id": "2d125f60",
   "metadata": {},
   "outputs": [
    {
     "name": "stdout",
     "output_type": "stream",
     "text": [
      "Правильность на тестовом наборе: 0.8614\n",
      "Наилучшие параметры: {'polynomialfeatures__degree': 2, 'xgbregressor__learning_rate': 0.08, 'xgbregressor__max_depth': 3}\n",
      "Наил значение правильности перекр проверки: 0.8791\n"
     ]
    }
   ],
   "source": [
    "print(\"Правильность на тестовом наборе: {:.4f}\".format(grid.score(X_val, y_val)))\n",
    "print(\"Наилучшие параметры: {}\".format(grid.best_params_))\n",
    "print(\"Наил значение правильности перекр проверки: {:.4f}\".format(grid.best_score_))"
   ]
  },
  {
   "cell_type": "code",
   "execution_count": 99,
   "id": "0961a7fe",
   "metadata": {},
   "outputs": [
    {
     "data": {
      "image/png": "[encoded data removed]",
      "text/plain": [
       "<Figure size 576x144 with 2 Axes>"
      ]
     },
     "metadata": {
      "needs_background": "light"
     },
     "output_type": "display_data"
    }
   ],
   "source": [
    "plt.figure(figsize=(8, 2))\n",
    "sns.heatmap(grid.cv_results_['mean_test_score'].reshape(4, 1).T, annot=True, \n",
    "            xticklabels=param_grid['xgbregressor__learning_rate'], yticklabels=[i for i in range(3, 4)], linewidths=0.5, fmt=\".3f\");"
   ]
  },
  {
   "cell_type": "code",
   "execution_count": 115,
   "id": "807f553c",
   "metadata": {},
   "outputs": [],
   "source": [
    "ids = df_test['Id']\n",
    "predictions = grid.predict(df_test.drop('Id', axis=1))\n",
    "\n",
    "#set the output as a dataframe and convert to csv file named submission.csv\n",
    "output = pd.DataFrame({ 'Id' : ids, 'SalePrice': predictions })\n",
    "output.to_csv('XGBR,PF,MMS_0.8791.csv', index=False)"
   ]
  },
  {
   "cell_type": "markdown",
   "id": "0e9b48ce",
   "metadata": {},
   "source": [
    "#### Score: 0.13246"
   ]
  },
  {
   "cell_type": "code",
   "execution_count": 135,
   "id": "4fedb390",
   "metadata": {
    "scrolled": true
   },
   "outputs": [
    {
     "name": "stdout",
     "output_type": "stream",
     "text": [
      "Wall time: 25min 21s\n"
     ]
    },
    {
     "data": {
      "text/plain": [
       "GridSearchCV(cv=5,\n",
       "             estimator=Pipeline(steps=[('minmaxscaler', MinMaxScaler()),\n",
       "                                       ('polynomialfeatures',\n",
       "                                        PolynomialFeatures()),\n",
       "                                       ('xgbregressor',\n",
       "                                        XGBRegressor(base_score=None,\n",
       "                                                     booster=None,\n",
       "                                                     callbacks=None,\n",
       "                                                     colsample_bylevel=None,\n",
       "                                                     colsample_bynode=None,\n",
       "                                                     colsample_bytree=None,\n",
       "                                                     early_stopping_rounds=None,\n",
       "                                                     enable_categorical=False,\n",
       "                                                     eval_metric=None,\n",
       "                                                     gamma=None, gpu_id=Non...\n",
       "                                                     min_child_weight=None,\n",
       "                                                     missing=nan,\n",
       "                                                     monotone_constraints=None,\n",
       "                                                     n_estimators=200,\n",
       "                                                     n_jobs=-1,\n",
       "                                                     num_parallel_tree=None,\n",
       "                                                     predictor=None,\n",
       "                                                     random_state=None,\n",
       "                                                     reg_alpha=None,\n",
       "                                                     reg_lambda=None, ...))]),\n",
       "             n_jobs=-1,\n",
       "             param_grid={'polynomialfeatures__degree': [2],\n",
       "                         'xgbregressor__learning_rate': [0.075, 0.076, 0.077,\n",
       "                                                         0.078, 0.079, 0.08,\n",
       "                                                         0.081, 0.82, 0.83,\n",
       "                                                         0.84, 0.85],\n",
       "                         'xgbregressor__max_depth': [3]})"
      ]
     },
     "execution_count": 135,
     "metadata": {},
     "output_type": "execute_result"
    }
   ],
   "source": [
    "%%time\n",
    "from sklearn.preprocessing import PolynomialFeatures\n",
    "from sklearn.preprocessing import MinMaxScaler\n",
    "pipe = make_pipeline(MinMaxScaler(), PolynomialFeatures(), XGBRegressor(n_estimators=200, n_jobs=-1))\n",
    "\n",
    "param_grid = {'xgbregressor__max_depth': [3],\n",
    "              'polynomialfeatures__degree': [2],\n",
    "              'xgbregressor__learning_rate': [0.076,0.077,0.078,0.079,0.08,0.081,0.82]}\n",
    "grid = GridSearchCV(pipe, param_grid=param_grid, cv=5, n_jobs=-1)\n",
    "grid.fit(X_train, y_train);"
   ]
  },
  {
   "cell_type": "code",
   "execution_count": 136,
   "id": "03345e5a",
   "metadata": {},
   "outputs": [
    {
     "name": "stdout",
     "output_type": "stream",
     "text": [
      "Правильность на тестовом наборе: 0.8662\n",
      "Наилучшие параметры: {'polynomialfeatures__degree': 2, 'xgbregressor__learning_rate': 0.076, 'xgbregressor__max_depth': 3}\n",
      "Наил значение правильности перекр проверки: 0.8803\n"
     ]
    }
   ],
   "source": [
    "print(\"Правильность на тестовом наборе: {:.4f}\".format(grid.score(X_val, y_val)))\n",
    "print(\"Наилучшие параметры: {}\".format(grid.best_params_))\n",
    "print(\"Наил значение правильности перекр проверки: {:.4f}\".format(grid.best_score_))"
   ]
  },
  {
   "cell_type": "code",
   "execution_count": 137,
   "id": "15b7fdbd",
   "metadata": {},
   "outputs": [
    {
     "data": {
      "image/png": "[encoded data removed]",
      "text/plain": [
       "<Figure size 576x360 with 2 Axes>"
      ]
     },
     "metadata": {
      "needs_background": "light"
     },
     "output_type": "display_data"
    }
   ],
   "source": [
    "plt.figure(figsize=(22, 2))\n",
    "sns.heatmap(grid.cv_results_['mean_test_score'].reshape(11, 1).T, annot=True, \n",
    "            xticklabels=param_grid['xgbregressor__learning_rate'], yticklabels=[i for i in range(3, 4)], linewidths=0.5, fmt=\".3f\");"
   ]
  },
  {
   "cell_type": "code",
   "execution_count": 138,
   "id": "7ada3239",
   "metadata": {},
   "outputs": [],
   "source": [
    "ids = df_test['Id']\n",
    "predictions = grid.predict(df_test.drop('Id', axis=1))\n",
    "\n",
    "#set the output as a dataframe and convert to csv file named submission.csv\n",
    "output = pd.DataFrame({ 'Id' : ids, 'SalePrice': predictions })\n",
    "output.to_csv('XGBR,PF,MMS_0.8803.csv', index=False)"
   ]
  },
  {
   "cell_type": "markdown",
   "id": "24f4e7c4",
   "metadata": {},
   "source": [
    "## MLPR"
   ]
  },
  {
   "cell_type": "code",
   "execution_count": 354,
   "id": "94d2468e",
   "metadata": {},
   "outputs": [],
   "source": [
    "SS = StandardScaler()\n",
    "SS.fit(X_train)\n",
    "X_train_SS = SS.transform(X_train)\n",
    "X_val_SS = SS.transform(X_val)"
   ]
  },
  {
   "cell_type": "code",
   "execution_count": 355,
   "id": "602aff48",
   "metadata": {},
   "outputs": [
    {
     "name": "stdout",
     "output_type": "stream",
     "text": [
      "Правильность на обучающем наборе: 0.9998\n",
      "Правильность на тестовом наборе: 0.1412\n"
     ]
    }
   ],
   "source": [
    "MLPR = MLPRegressor(max_iter = 10000, hidden_layer_sizes=(100,100))\n",
    "MLPR.fit(X_train_SS, y_train)\n",
    "\n",
    "print('Правильность на обучающем наборе: {:.4f}'.format(MLPR.score(X_train_SS, y_train)))\n",
    "print('Правильность на тестовом наборе: {:.4f}'.format(MLPR.score(X_val_SS, y_val)))"
   ]
  },
  {
   "cell_type": "code",
   "execution_count": 356,
   "id": "51178fe4",
   "metadata": {},
   "outputs": [
    {
     "data": {
      "text/plain": [
       "36074.309949738425"
      ]
     },
     "execution_count": 356,
     "metadata": {},
     "output_type": "execute_result"
    }
   ],
   "source": [
    "rmse_cv(MLPR).mean()"
   ]
  },
  {
   "cell_type": "code",
   "execution_count": 357,
   "id": "ce16aeae",
   "metadata": {},
   "outputs": [
    {
     "name": "stdout",
     "output_type": "stream",
     "text": [
      "Правильность на обучающем наборе: 0.9752\n",
      "Правильность на тестовом наборе: 0.4097\n"
     ]
    },
    {
     "name": "stderr",
     "output_type": "stream",
     "text": [
      "D:\\ANACONDA\\lib\\site-packages\\sklearn\\neural_network\\_multilayer_perceptron.py:614: ConvergenceWarning: Stochastic Optimizer: Maximum iterations (10000) reached and the optimization hasn't converged yet.\n",
      "  warnings.warn(\n"
     ]
    }
   ],
   "source": [
    "MLPR = MLPRegressor(max_iter = 10000, hidden_layer_sizes=(100))\n",
    "MLPR.fit(X_train_SS, y_train)\n",
    "\n",
    "print('Правильность на обучающем наборе: {:.4f}'.format(MLPR.score(X_train_SS, y_train)))\n",
    "print('Правильность на тестовом наборе: {:.4f}'.format(MLPR.score(X_val_SS, y_val)))"
   ]
  },
  {
   "cell_type": "code",
   "execution_count": 358,
   "id": "df56bb96",
   "metadata": {},
   "outputs": [
    {
     "data": {
      "text/plain": [
       "36828.60591449098"
      ]
     },
     "execution_count": 358,
     "metadata": {},
     "output_type": "execute_result"
    }
   ],
   "source": [
    "rmse_cv(MLPR).mean()"
   ]
  },
  {
   "cell_type": "markdown",
   "id": "084c7c0c",
   "metadata": {},
   "source": [
    "# Вывод"
   ]
  },
  {
   "cell_type": "markdown",
   "id": "e1d2c84c",
   "metadata": {},
   "source": [
    "Наилучший Score у XGradientBoostingRegressor & PolynomialFeatures & MinMaxScaler = 0.13060"
   ]
  }
 ],
 "metadata": {
  "hide_input": false,
  "kernelspec": {
   "display_name": "Python 3 (ipykernel)",
   "language": "python",
   "name": "python3"
  },
  "language_info": {
   "codemirror_mode": {
    "name": "ipython",
    "version": 3
   },
   "file_extension": ".py",
   "mimetype": "text/x-python",
   "name": "python",
   "nbconvert_exporter": "python",
   "pygments_lexer": "ipython3",
   "version": "3.9.7"
  },
  "toc": {
   "base_numbering": 1,
   "nav_menu": {},
   "number_sections": true,
   "sideBar": true,
   "skip_h1_title": false,
   "title_cell": "Table of Contents",
   "title_sidebar": "Contents",
   "toc_cell": false,
   "toc_position": {
    "height": "calc(100% - 180px)",
    "left": "10px",
    "top": "150px",
    "width": "290.8px"
   },
   "toc_section_display": true,
   "toc_window_display": false
  },
  "varInspector": {
   "cols": {
    "lenName": 16,
    "lenType": 16,
    "lenVar": 40
   },
   "kernels_config": {
    "python": {
     "delete_cmd_postfix": "",
     "delete_cmd_prefix": "del ",
     "library": "var_list.py",
     "varRefreshCmd": "print(var_dic_list())"
    },
    "r": {
     "delete_cmd_postfix": ") ",
     "delete_cmd_prefix": "rm(",
     "library": "var_list.r",
     "varRefreshCmd": "cat(var_dic_list()) "
    }
   },
   "position": {
    "height": "322.85px",
    "left": "1158px",
    "right": "20px",
    "top": "104px",
    "width": "350px"
   },
   "types_to_exclude": [
    "module",
    "function",
    "builtin_function_or_method",
    "instance",
    "_Feature"
   ],
   "window_display": false
  }
 },
 "nbformat": 4,
 "nbformat_minor": 5
}
